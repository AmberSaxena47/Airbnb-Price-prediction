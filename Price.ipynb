{
 "cells": [
  {
   "cell_type": "code",
   "execution_count": 1,
   "metadata": {},
   "outputs": [],
   "source": [
    "import pandas as pd\n",
    "import seaborn as sns\n",
    "import numpy as np\n",
    "from scipy.stats import norm\n",
    "import scipy\n",
    "import matplotlib.pyplot as plt\n",
    "from tqdm import tqdm\n",
    "pd.set_option('display.max_columns', 500)"
   ]
  },
  {
   "cell_type": "code",
   "execution_count": 2,
   "metadata": {},
   "outputs": [],
   "source": [
    "from sklearn.model_selection import train_test_split\n",
    "from sklearn.linear_model import Lasso\n",
    "from sklearn.metrics import mean_squared_error as mse\n",
    "from sklearn.metrics import mean_absolute_error as mae\n",
    "from sklearn.metrics import r2_score\n",
    "from sklearn.preprocessing import StandardScaler, MinMaxScaler"
   ]
  },
  {
   "cell_type": "markdown",
   "metadata": {},
   "source": [
    "# Reading data"
   ]
  },
  {
   "cell_type": "code",
   "execution_count": 3,
   "metadata": {
    "scrolled": true
   },
   "outputs": [
    {
     "data": {
      "text/html": [
       "<div>\n",
       "<style scoped>\n",
       "    .dataframe tbody tr th:only-of-type {\n",
       "        vertical-align: middle;\n",
       "    }\n",
       "\n",
       "    .dataframe tbody tr th {\n",
       "        vertical-align: top;\n",
       "    }\n",
       "\n",
       "    .dataframe thead th {\n",
       "        text-align: right;\n",
       "    }\n",
       "</style>\n",
       "<table border=\"1\" class=\"dataframe\">\n",
       "  <thead>\n",
       "    <tr style=\"text-align: right;\">\n",
       "      <th></th>\n",
       "      <th>id</th>\n",
       "      <th>listing_url</th>\n",
       "      <th>scrape_id</th>\n",
       "      <th>last_scraped</th>\n",
       "      <th>name</th>\n",
       "      <th>summary</th>\n",
       "      <th>space</th>\n",
       "      <th>description</th>\n",
       "      <th>experiences_offered</th>\n",
       "      <th>neighborhood_overview</th>\n",
       "      <th>notes</th>\n",
       "      <th>transit</th>\n",
       "      <th>access</th>\n",
       "      <th>interaction</th>\n",
       "      <th>house_rules</th>\n",
       "      <th>thumbnail_url</th>\n",
       "      <th>medium_url</th>\n",
       "      <th>picture_url</th>\n",
       "      <th>xl_picture_url</th>\n",
       "      <th>host_id</th>\n",
       "      <th>host_url</th>\n",
       "      <th>host_name</th>\n",
       "      <th>host_since</th>\n",
       "      <th>host_location</th>\n",
       "      <th>host_about</th>\n",
       "      <th>host_response_time</th>\n",
       "      <th>host_response_rate</th>\n",
       "      <th>host_acceptance_rate</th>\n",
       "      <th>host_is_superhost</th>\n",
       "      <th>host_thumbnail_url</th>\n",
       "      <th>host_picture_url</th>\n",
       "      <th>host_neighbourhood</th>\n",
       "      <th>host_listings_count</th>\n",
       "      <th>host_total_listings_count</th>\n",
       "      <th>host_verifications</th>\n",
       "      <th>host_has_profile_pic</th>\n",
       "      <th>host_identity_verified</th>\n",
       "      <th>street</th>\n",
       "      <th>neighbourhood</th>\n",
       "      <th>neighbourhood_cleansed</th>\n",
       "      <th>neighbourhood_group_cleansed</th>\n",
       "      <th>city</th>\n",
       "      <th>state</th>\n",
       "      <th>zipcode</th>\n",
       "      <th>market</th>\n",
       "      <th>smart_location</th>\n",
       "      <th>country_code</th>\n",
       "      <th>country</th>\n",
       "      <th>latitude</th>\n",
       "      <th>longitude</th>\n",
       "      <th>is_location_exact</th>\n",
       "      <th>property_type</th>\n",
       "      <th>room_type</th>\n",
       "      <th>accommodates</th>\n",
       "      <th>bathrooms</th>\n",
       "      <th>bedrooms</th>\n",
       "      <th>beds</th>\n",
       "      <th>bed_type</th>\n",
       "      <th>amenities</th>\n",
       "      <th>square_feet</th>\n",
       "      <th>price</th>\n",
       "      <th>weekly_price</th>\n",
       "      <th>monthly_price</th>\n",
       "      <th>security_deposit</th>\n",
       "      <th>cleaning_fee</th>\n",
       "      <th>guests_included</th>\n",
       "      <th>extra_people</th>\n",
       "      <th>minimum_nights</th>\n",
       "      <th>maximum_nights</th>\n",
       "      <th>calendar_updated</th>\n",
       "      <th>has_availability</th>\n",
       "      <th>availability_30</th>\n",
       "      <th>availability_60</th>\n",
       "      <th>availability_90</th>\n",
       "      <th>availability_365</th>\n",
       "      <th>calendar_last_scraped</th>\n",
       "      <th>number_of_reviews</th>\n",
       "      <th>first_review</th>\n",
       "      <th>last_review</th>\n",
       "      <th>review_scores_rating</th>\n",
       "      <th>review_scores_accuracy</th>\n",
       "      <th>review_scores_cleanliness</th>\n",
       "      <th>review_scores_checkin</th>\n",
       "      <th>review_scores_communication</th>\n",
       "      <th>review_scores_location</th>\n",
       "      <th>review_scores_value</th>\n",
       "      <th>requires_license</th>\n",
       "      <th>license</th>\n",
       "      <th>jurisdiction_names</th>\n",
       "      <th>instant_bookable</th>\n",
       "      <th>is_business_travel_ready</th>\n",
       "      <th>cancellation_policy</th>\n",
       "      <th>require_guest_profile_picture</th>\n",
       "      <th>require_guest_phone_verification</th>\n",
       "      <th>calculated_host_listings_count</th>\n",
       "      <th>reviews_per_month</th>\n",
       "    </tr>\n",
       "  </thead>\n",
       "  <tbody>\n",
       "    <tr>\n",
       "      <th>0</th>\n",
       "      <td>2015</td>\n",
       "      <td>https://www.airbnb.com/rooms/2015</td>\n",
       "      <td>20181107122246</td>\n",
       "      <td>2018-11-07</td>\n",
       "      <td>Berlin-Mitte Value! Quiet courtyard/very central</td>\n",
       "      <td>Great location!  30 of 75 sq meters. This wood...</td>\n",
       "      <td>A+++ location! This „Einliegerwohnung“ is an e...</td>\n",
       "      <td>Great location!  30 of 75 sq meters. This wood...</td>\n",
       "      <td>none</td>\n",
       "      <td>It is located in the former East Berlin area o...</td>\n",
       "      <td>This is my home, not a hotel. I rent out occas...</td>\n",
       "      <td>Close to U-Bahn U8 and U2 (metro), Trams M12, ...</td>\n",
       "      <td>Simple kitchen/cooking, refrigerator, microwav...</td>\n",
       "      <td>Always available</td>\n",
       "      <td>No parties No events No pets No smoking, not e...</td>\n",
       "      <td>NaN</td>\n",
       "      <td>NaN</td>\n",
       "      <td>https://a0.muscache.com/im/pictures/260fd609-7...</td>\n",
       "      <td>NaN</td>\n",
       "      <td>2217</td>\n",
       "      <td>https://www.airbnb.com/users/show/2217</td>\n",
       "      <td>Ian</td>\n",
       "      <td>2008-08-18</td>\n",
       "      <td>Key Biscayne, Florida, United States</td>\n",
       "      <td>Believe in sharing economy.</td>\n",
       "      <td>within an hour</td>\n",
       "      <td>96%</td>\n",
       "      <td>NaN</td>\n",
       "      <td>t</td>\n",
       "      <td>https://a0.muscache.com/im/pictures/21428a22-4...</td>\n",
       "      <td>https://a0.muscache.com/im/pictures/21428a22-4...</td>\n",
       "      <td>Mitte</td>\n",
       "      <td>4.0</td>\n",
       "      <td>4.0</td>\n",
       "      <td>['email', 'phone', 'reviews', 'jumio', 'offlin...</td>\n",
       "      <td>t</td>\n",
       "      <td>t</td>\n",
       "      <td>Berlin, Berlin, Germany</td>\n",
       "      <td>Mitte</td>\n",
       "      <td>Brunnenstr. Süd</td>\n",
       "      <td>Mitte</td>\n",
       "      <td>Berlin</td>\n",
       "      <td>Berlin</td>\n",
       "      <td>10119</td>\n",
       "      <td>Berlin</td>\n",
       "      <td>Berlin, Germany</td>\n",
       "      <td>DE</td>\n",
       "      <td>Germany</td>\n",
       "      <td>52.534537</td>\n",
       "      <td>13.402557</td>\n",
       "      <td>f</td>\n",
       "      <td>Guesthouse</td>\n",
       "      <td>Entire home/apt</td>\n",
       "      <td>3</td>\n",
       "      <td>1.0</td>\n",
       "      <td>1.0</td>\n",
       "      <td>2.0</td>\n",
       "      <td>Real Bed</td>\n",
       "      <td>{TV,\"Cable TV\",Wifi,Kitchen,Gym,Heating,\"Famil...</td>\n",
       "      <td>NaN</td>\n",
       "      <td>$60.00</td>\n",
       "      <td>NaN</td>\n",
       "      <td>NaN</td>\n",
       "      <td>$200.00</td>\n",
       "      <td>$30.00</td>\n",
       "      <td>1</td>\n",
       "      <td>$28.00</td>\n",
       "      <td>4</td>\n",
       "      <td>1125</td>\n",
       "      <td>3 months ago</td>\n",
       "      <td>t</td>\n",
       "      <td>0</td>\n",
       "      <td>21</td>\n",
       "      <td>51</td>\n",
       "      <td>141</td>\n",
       "      <td>2018-11-07</td>\n",
       "      <td>118</td>\n",
       "      <td>2016-04-11</td>\n",
       "      <td>2018-10-28</td>\n",
       "      <td>93.0</td>\n",
       "      <td>10.0</td>\n",
       "      <td>9.0</td>\n",
       "      <td>10.0</td>\n",
       "      <td>10.0</td>\n",
       "      <td>10.0</td>\n",
       "      <td>9.0</td>\n",
       "      <td>t</td>\n",
       "      <td>NaN</td>\n",
       "      <td>NaN</td>\n",
       "      <td>f</td>\n",
       "      <td>f</td>\n",
       "      <td>strict_14_with_grace_period</td>\n",
       "      <td>f</td>\n",
       "      <td>f</td>\n",
       "      <td>4</td>\n",
       "      <td>3.76</td>\n",
       "    </tr>\n",
       "    <tr>\n",
       "      <th>1</th>\n",
       "      <td>2695</td>\n",
       "      <td>https://www.airbnb.com/rooms/2695</td>\n",
       "      <td>20181107122246</td>\n",
       "      <td>2018-11-07</td>\n",
       "      <td>Prenzlauer Berg close to Mauerpark</td>\n",
       "      <td>NaN</td>\n",
       "      <td>In the summertime we are spending most of our ...</td>\n",
       "      <td>In the summertime we are spending most of our ...</td>\n",
       "      <td>none</td>\n",
       "      <td>NaN</td>\n",
       "      <td>NaN</td>\n",
       "      <td>Within walking distance you'll find the S-Bahn...</td>\n",
       "      <td>Außer deinem Zimmer kannst du noch die Küche u...</td>\n",
       "      <td>NaN</td>\n",
       "      <td>NaN</td>\n",
       "      <td>NaN</td>\n",
       "      <td>NaN</td>\n",
       "      <td>https://a0.muscache.com/im/pictures/97d4f6e8-1...</td>\n",
       "      <td>NaN</td>\n",
       "      <td>2986</td>\n",
       "      <td>https://www.airbnb.com/users/show/2986</td>\n",
       "      <td>Michael</td>\n",
       "      <td>2008-09-16</td>\n",
       "      <td>Berlin, Berlin, Germany</td>\n",
       "      <td>Living with my wife in Berlin.  Like travellin...</td>\n",
       "      <td>NaN</td>\n",
       "      <td>NaN</td>\n",
       "      <td>NaN</td>\n",
       "      <td>f</td>\n",
       "      <td>https://a0.muscache.com/im/pictures/50434955-1...</td>\n",
       "      <td>https://a0.muscache.com/im/pictures/50434955-1...</td>\n",
       "      <td>Prenzlauer Berg</td>\n",
       "      <td>1.0</td>\n",
       "      <td>1.0</td>\n",
       "      <td>['email', 'phone', 'reviews', 'jumio', 'govern...</td>\n",
       "      <td>t</td>\n",
       "      <td>t</td>\n",
       "      <td>Berlin, Berlin, Germany</td>\n",
       "      <td>NaN</td>\n",
       "      <td>Prenzlauer Berg Nordwest</td>\n",
       "      <td>Pankow</td>\n",
       "      <td>Berlin</td>\n",
       "      <td>Berlin</td>\n",
       "      <td>10437</td>\n",
       "      <td>Berlin</td>\n",
       "      <td>Berlin, Germany</td>\n",
       "      <td>DE</td>\n",
       "      <td>Germany</td>\n",
       "      <td>52.548513</td>\n",
       "      <td>13.404553</td>\n",
       "      <td>t</td>\n",
       "      <td>Apartment</td>\n",
       "      <td>Private room</td>\n",
       "      <td>2</td>\n",
       "      <td>1.0</td>\n",
       "      <td>1.0</td>\n",
       "      <td>1.0</td>\n",
       "      <td>Real Bed</td>\n",
       "      <td>{Wifi,Kitchen,Elevator,Heating,Washer,Essentia...</td>\n",
       "      <td>NaN</td>\n",
       "      <td>$17.00</td>\n",
       "      <td>NaN</td>\n",
       "      <td>NaN</td>\n",
       "      <td>$0.00</td>\n",
       "      <td>$0.00</td>\n",
       "      <td>1</td>\n",
       "      <td>$0.00</td>\n",
       "      <td>2</td>\n",
       "      <td>40</td>\n",
       "      <td>7 weeks ago</td>\n",
       "      <td>t</td>\n",
       "      <td>0</td>\n",
       "      <td>0</td>\n",
       "      <td>0</td>\n",
       "      <td>0</td>\n",
       "      <td>2018-11-07</td>\n",
       "      <td>6</td>\n",
       "      <td>2018-07-04</td>\n",
       "      <td>2018-10-01</td>\n",
       "      <td>100.0</td>\n",
       "      <td>10.0</td>\n",
       "      <td>10.0</td>\n",
       "      <td>10.0</td>\n",
       "      <td>10.0</td>\n",
       "      <td>10.0</td>\n",
       "      <td>10.0</td>\n",
       "      <td>t</td>\n",
       "      <td>NaN</td>\n",
       "      <td>NaN</td>\n",
       "      <td>f</td>\n",
       "      <td>f</td>\n",
       "      <td>flexible</td>\n",
       "      <td>f</td>\n",
       "      <td>f</td>\n",
       "      <td>1</td>\n",
       "      <td>1.42</td>\n",
       "    </tr>\n",
       "  </tbody>\n",
       "</table>\n",
       "</div>"
      ],
      "text/plain": [
       "     id                        listing_url       scrape_id last_scraped  \\\n",
       "0  2015  https://www.airbnb.com/rooms/2015  20181107122246   2018-11-07   \n",
       "1  2695  https://www.airbnb.com/rooms/2695  20181107122246   2018-11-07   \n",
       "\n",
       "                                               name  \\\n",
       "0  Berlin-Mitte Value! Quiet courtyard/very central   \n",
       "1                Prenzlauer Berg close to Mauerpark   \n",
       "\n",
       "                                             summary  \\\n",
       "0  Great location!  30 of 75 sq meters. This wood...   \n",
       "1                                                NaN   \n",
       "\n",
       "                                               space  \\\n",
       "0  A+++ location! This „Einliegerwohnung“ is an e...   \n",
       "1  In the summertime we are spending most of our ...   \n",
       "\n",
       "                                         description experiences_offered  \\\n",
       "0  Great location!  30 of 75 sq meters. This wood...                none   \n",
       "1  In the summertime we are spending most of our ...                none   \n",
       "\n",
       "                               neighborhood_overview  \\\n",
       "0  It is located in the former East Berlin area o...   \n",
       "1                                                NaN   \n",
       "\n",
       "                                               notes  \\\n",
       "0  This is my home, not a hotel. I rent out occas...   \n",
       "1                                                NaN   \n",
       "\n",
       "                                             transit  \\\n",
       "0  Close to U-Bahn U8 and U2 (metro), Trams M12, ...   \n",
       "1  Within walking distance you'll find the S-Bahn...   \n",
       "\n",
       "                                              access       interaction  \\\n",
       "0  Simple kitchen/cooking, refrigerator, microwav...  Always available   \n",
       "1  Außer deinem Zimmer kannst du noch die Küche u...               NaN   \n",
       "\n",
       "                                         house_rules  thumbnail_url  \\\n",
       "0  No parties No events No pets No smoking, not e...            NaN   \n",
       "1                                                NaN            NaN   \n",
       "\n",
       "   medium_url                                        picture_url  \\\n",
       "0         NaN  https://a0.muscache.com/im/pictures/260fd609-7...   \n",
       "1         NaN  https://a0.muscache.com/im/pictures/97d4f6e8-1...   \n",
       "\n",
       "   xl_picture_url  host_id                                host_url host_name  \\\n",
       "0             NaN     2217  https://www.airbnb.com/users/show/2217       Ian   \n",
       "1             NaN     2986  https://www.airbnb.com/users/show/2986   Michael   \n",
       "\n",
       "   host_since                         host_location  \\\n",
       "0  2008-08-18  Key Biscayne, Florida, United States   \n",
       "1  2008-09-16               Berlin, Berlin, Germany   \n",
       "\n",
       "                                          host_about host_response_time  \\\n",
       "0                        Believe in sharing economy.     within an hour   \n",
       "1  Living with my wife in Berlin.  Like travellin...                NaN   \n",
       "\n",
       "  host_response_rate  host_acceptance_rate host_is_superhost  \\\n",
       "0                96%                   NaN                 t   \n",
       "1                NaN                   NaN                 f   \n",
       "\n",
       "                                  host_thumbnail_url  \\\n",
       "0  https://a0.muscache.com/im/pictures/21428a22-4...   \n",
       "1  https://a0.muscache.com/im/pictures/50434955-1...   \n",
       "\n",
       "                                    host_picture_url host_neighbourhood  \\\n",
       "0  https://a0.muscache.com/im/pictures/21428a22-4...              Mitte   \n",
       "1  https://a0.muscache.com/im/pictures/50434955-1...    Prenzlauer Berg   \n",
       "\n",
       "   host_listings_count  host_total_listings_count  \\\n",
       "0                  4.0                        4.0   \n",
       "1                  1.0                        1.0   \n",
       "\n",
       "                                  host_verifications host_has_profile_pic  \\\n",
       "0  ['email', 'phone', 'reviews', 'jumio', 'offlin...                    t   \n",
       "1  ['email', 'phone', 'reviews', 'jumio', 'govern...                    t   \n",
       "\n",
       "  host_identity_verified                   street neighbourhood  \\\n",
       "0                      t  Berlin, Berlin, Germany         Mitte   \n",
       "1                      t  Berlin, Berlin, Germany           NaN   \n",
       "\n",
       "     neighbourhood_cleansed neighbourhood_group_cleansed    city   state  \\\n",
       "0           Brunnenstr. Süd                        Mitte  Berlin  Berlin   \n",
       "1  Prenzlauer Berg Nordwest                       Pankow  Berlin  Berlin   \n",
       "\n",
       "  zipcode  market   smart_location country_code  country   latitude  \\\n",
       "0   10119  Berlin  Berlin, Germany           DE  Germany  52.534537   \n",
       "1   10437  Berlin  Berlin, Germany           DE  Germany  52.548513   \n",
       "\n",
       "   longitude is_location_exact property_type        room_type  accommodates  \\\n",
       "0  13.402557                 f    Guesthouse  Entire home/apt             3   \n",
       "1  13.404553                 t     Apartment     Private room             2   \n",
       "\n",
       "   bathrooms  bedrooms  beds  bed_type  \\\n",
       "0        1.0       1.0   2.0  Real Bed   \n",
       "1        1.0       1.0   1.0  Real Bed   \n",
       "\n",
       "                                           amenities  square_feet   price  \\\n",
       "0  {TV,\"Cable TV\",Wifi,Kitchen,Gym,Heating,\"Famil...          NaN  $60.00   \n",
       "1  {Wifi,Kitchen,Elevator,Heating,Washer,Essentia...          NaN  $17.00   \n",
       "\n",
       "  weekly_price monthly_price security_deposit cleaning_fee  guests_included  \\\n",
       "0          NaN           NaN          $200.00       $30.00                1   \n",
       "1          NaN           NaN            $0.00        $0.00                1   \n",
       "\n",
       "  extra_people  minimum_nights  maximum_nights calendar_updated  \\\n",
       "0       $28.00               4            1125     3 months ago   \n",
       "1        $0.00               2              40      7 weeks ago   \n",
       "\n",
       "  has_availability  availability_30  availability_60  availability_90  \\\n",
       "0                t                0               21               51   \n",
       "1                t                0                0                0   \n",
       "\n",
       "   availability_365 calendar_last_scraped  number_of_reviews first_review  \\\n",
       "0               141            2018-11-07                118   2016-04-11   \n",
       "1                 0            2018-11-07                  6   2018-07-04   \n",
       "\n",
       "  last_review  review_scores_rating  review_scores_accuracy  \\\n",
       "0  2018-10-28                  93.0                    10.0   \n",
       "1  2018-10-01                 100.0                    10.0   \n",
       "\n",
       "   review_scores_cleanliness  review_scores_checkin  \\\n",
       "0                        9.0                   10.0   \n",
       "1                       10.0                   10.0   \n",
       "\n",
       "   review_scores_communication  review_scores_location  review_scores_value  \\\n",
       "0                         10.0                    10.0                  9.0   \n",
       "1                         10.0                    10.0                 10.0   \n",
       "\n",
       "  requires_license license  jurisdiction_names instant_bookable  \\\n",
       "0                t     NaN                 NaN                f   \n",
       "1                t     NaN                 NaN                f   \n",
       "\n",
       "  is_business_travel_ready          cancellation_policy  \\\n",
       "0                        f  strict_14_with_grace_period   \n",
       "1                        f                     flexible   \n",
       "\n",
       "  require_guest_profile_picture require_guest_phone_verification  \\\n",
       "0                             f                                f   \n",
       "1                             f                                f   \n",
       "\n",
       "   calculated_host_listings_count  reviews_per_month  \n",
       "0                               4               3.76  \n",
       "1                               1               1.42  "
      ]
     },
     "execution_count": 3,
     "metadata": {},
     "output_type": "execute_result"
    }
   ],
   "source": [
    "df = pd.read_csv('listings_summary.csv')\n",
    "df.head(2)"
   ]
  },
  {
   "cell_type": "code",
   "execution_count": 4,
   "metadata": {},
   "outputs": [
    {
     "data": {
      "text/html": [
       "<div>\n",
       "<style scoped>\n",
       "    .dataframe tbody tr th:only-of-type {\n",
       "        vertical-align: middle;\n",
       "    }\n",
       "\n",
       "    .dataframe tbody tr th {\n",
       "        vertical-align: top;\n",
       "    }\n",
       "\n",
       "    .dataframe thead th {\n",
       "        text-align: right;\n",
       "    }\n",
       "</style>\n",
       "<table border=\"1\" class=\"dataframe\">\n",
       "  <thead>\n",
       "    <tr style=\"text-align: right;\">\n",
       "      <th></th>\n",
       "      <th>host_has_profile_pic</th>\n",
       "      <th>host_since</th>\n",
       "      <th>neighbourhood_cleansed</th>\n",
       "      <th>neighbourhood_group_cleansed</th>\n",
       "      <th>host_is_superhost</th>\n",
       "      <th>description</th>\n",
       "      <th>latitude</th>\n",
       "      <th>longitude</th>\n",
       "      <th>is_location_exact</th>\n",
       "      <th>property_type</th>\n",
       "      <th>room_type</th>\n",
       "      <th>accommodates</th>\n",
       "      <th>bathrooms</th>\n",
       "      <th>bedrooms</th>\n",
       "      <th>bed_type</th>\n",
       "      <th>amenities</th>\n",
       "      <th>price</th>\n",
       "      <th>cleaning_fee</th>\n",
       "      <th>review_scores_rating</th>\n",
       "      <th>reviews_per_month</th>\n",
       "      <th>number_of_reviews</th>\n",
       "      <th>review_scores_accuracy</th>\n",
       "      <th>review_scores_cleanliness</th>\n",
       "      <th>review_scores_checkin</th>\n",
       "      <th>review_scores_communication</th>\n",
       "      <th>review_scores_location</th>\n",
       "      <th>review_scores_value</th>\n",
       "      <th>security_deposit</th>\n",
       "      <th>extra_people</th>\n",
       "      <th>guests_included</th>\n",
       "      <th>minimum_nights</th>\n",
       "      <th>instant_bookable</th>\n",
       "      <th>is_business_travel_ready</th>\n",
       "      <th>cancellation_policy</th>\n",
       "      <th>availability_365</th>\n",
       "    </tr>\n",
       "    <tr>\n",
       "      <th>id</th>\n",
       "      <th></th>\n",
       "      <th></th>\n",
       "      <th></th>\n",
       "      <th></th>\n",
       "      <th></th>\n",
       "      <th></th>\n",
       "      <th></th>\n",
       "      <th></th>\n",
       "      <th></th>\n",
       "      <th></th>\n",
       "      <th></th>\n",
       "      <th></th>\n",
       "      <th></th>\n",
       "      <th></th>\n",
       "      <th></th>\n",
       "      <th></th>\n",
       "      <th></th>\n",
       "      <th></th>\n",
       "      <th></th>\n",
       "      <th></th>\n",
       "      <th></th>\n",
       "      <th></th>\n",
       "      <th></th>\n",
       "      <th></th>\n",
       "      <th></th>\n",
       "      <th></th>\n",
       "      <th></th>\n",
       "      <th></th>\n",
       "      <th></th>\n",
       "      <th></th>\n",
       "      <th></th>\n",
       "      <th></th>\n",
       "      <th></th>\n",
       "      <th></th>\n",
       "      <th></th>\n",
       "    </tr>\n",
       "  </thead>\n",
       "  <tbody>\n",
       "    <tr>\n",
       "      <th>2015</th>\n",
       "      <td>t</td>\n",
       "      <td>2008-08-18</td>\n",
       "      <td>Brunnenstr. Süd</td>\n",
       "      <td>Mitte</td>\n",
       "      <td>t</td>\n",
       "      <td>Great location!  30 of 75 sq meters. This wood...</td>\n",
       "      <td>52.534537</td>\n",
       "      <td>13.402557</td>\n",
       "      <td>f</td>\n",
       "      <td>Guesthouse</td>\n",
       "      <td>Entire home/apt</td>\n",
       "      <td>3</td>\n",
       "      <td>1.0</td>\n",
       "      <td>1.0</td>\n",
       "      <td>Real Bed</td>\n",
       "      <td>{TV,\"Cable TV\",Wifi,Kitchen,Gym,Heating,\"Famil...</td>\n",
       "      <td>$60.00</td>\n",
       "      <td>$30.00</td>\n",
       "      <td>93.0</td>\n",
       "      <td>3.76</td>\n",
       "      <td>118</td>\n",
       "      <td>10.0</td>\n",
       "      <td>9.0</td>\n",
       "      <td>10.0</td>\n",
       "      <td>10.0</td>\n",
       "      <td>10.0</td>\n",
       "      <td>9.0</td>\n",
       "      <td>$200.00</td>\n",
       "      <td>$28.00</td>\n",
       "      <td>1</td>\n",
       "      <td>4</td>\n",
       "      <td>f</td>\n",
       "      <td>f</td>\n",
       "      <td>strict_14_with_grace_period</td>\n",
       "      <td>141</td>\n",
       "    </tr>\n",
       "    <tr>\n",
       "      <th>2695</th>\n",
       "      <td>t</td>\n",
       "      <td>2008-09-16</td>\n",
       "      <td>Prenzlauer Berg Nordwest</td>\n",
       "      <td>Pankow</td>\n",
       "      <td>f</td>\n",
       "      <td>In the summertime we are spending most of our ...</td>\n",
       "      <td>52.548513</td>\n",
       "      <td>13.404553</td>\n",
       "      <td>t</td>\n",
       "      <td>Apartment</td>\n",
       "      <td>Private room</td>\n",
       "      <td>2</td>\n",
       "      <td>1.0</td>\n",
       "      <td>1.0</td>\n",
       "      <td>Real Bed</td>\n",
       "      <td>{Wifi,Kitchen,Elevator,Heating,Washer,Essentia...</td>\n",
       "      <td>$17.00</td>\n",
       "      <td>$0.00</td>\n",
       "      <td>100.0</td>\n",
       "      <td>1.42</td>\n",
       "      <td>6</td>\n",
       "      <td>10.0</td>\n",
       "      <td>10.0</td>\n",
       "      <td>10.0</td>\n",
       "      <td>10.0</td>\n",
       "      <td>10.0</td>\n",
       "      <td>10.0</td>\n",
       "      <td>$0.00</td>\n",
       "      <td>$0.00</td>\n",
       "      <td>1</td>\n",
       "      <td>2</td>\n",
       "      <td>f</td>\n",
       "      <td>f</td>\n",
       "      <td>flexible</td>\n",
       "      <td>0</td>\n",
       "    </tr>\n",
       "  </tbody>\n",
       "</table>\n",
       "</div>"
      ],
      "text/plain": [
       "     host_has_profile_pic  host_since    neighbourhood_cleansed  \\\n",
       "id                                                                \n",
       "2015                    t  2008-08-18           Brunnenstr. Süd   \n",
       "2695                    t  2008-09-16  Prenzlauer Berg Nordwest   \n",
       "\n",
       "     neighbourhood_group_cleansed host_is_superhost  \\\n",
       "id                                                    \n",
       "2015                        Mitte                 t   \n",
       "2695                       Pankow                 f   \n",
       "\n",
       "                                            description   latitude  longitude  \\\n",
       "id                                                                              \n",
       "2015  Great location!  30 of 75 sq meters. This wood...  52.534537  13.402557   \n",
       "2695  In the summertime we are spending most of our ...  52.548513  13.404553   \n",
       "\n",
       "     is_location_exact property_type        room_type  accommodates  \\\n",
       "id                                                                    \n",
       "2015                 f    Guesthouse  Entire home/apt             3   \n",
       "2695                 t     Apartment     Private room             2   \n",
       "\n",
       "      bathrooms  bedrooms  bed_type  \\\n",
       "id                                    \n",
       "2015        1.0       1.0  Real Bed   \n",
       "2695        1.0       1.0  Real Bed   \n",
       "\n",
       "                                              amenities   price cleaning_fee  \\\n",
       "id                                                                             \n",
       "2015  {TV,\"Cable TV\",Wifi,Kitchen,Gym,Heating,\"Famil...  $60.00       $30.00   \n",
       "2695  {Wifi,Kitchen,Elevator,Heating,Washer,Essentia...  $17.00        $0.00   \n",
       "\n",
       "      review_scores_rating  reviews_per_month  number_of_reviews  \\\n",
       "id                                                                 \n",
       "2015                  93.0               3.76                118   \n",
       "2695                 100.0               1.42                  6   \n",
       "\n",
       "      review_scores_accuracy  review_scores_cleanliness  \\\n",
       "id                                                        \n",
       "2015                    10.0                        9.0   \n",
       "2695                    10.0                       10.0   \n",
       "\n",
       "      review_scores_checkin  review_scores_communication  \\\n",
       "id                                                         \n",
       "2015                   10.0                         10.0   \n",
       "2695                   10.0                         10.0   \n",
       "\n",
       "      review_scores_location  review_scores_value security_deposit  \\\n",
       "id                                                                   \n",
       "2015                    10.0                  9.0          $200.00   \n",
       "2695                    10.0                 10.0            $0.00   \n",
       "\n",
       "     extra_people  guests_included  minimum_nights instant_bookable  \\\n",
       "id                                                                    \n",
       "2015       $28.00                1               4                f   \n",
       "2695        $0.00                1               2                f   \n",
       "\n",
       "     is_business_travel_ready          cancellation_policy  availability_365  \n",
       "id                                                                            \n",
       "2015                        f  strict_14_with_grace_period               141  \n",
       "2695                        f                     flexible                 0  "
      ]
     },
     "execution_count": 4,
     "metadata": {},
     "output_type": "execute_result"
    }
   ],
   "source": [
    "columns_to_keep = ['id','host_has_profile_pic','host_since','neighbourhood_cleansed', 'neighbourhood_group_cleansed',\n",
    "                   'host_is_superhost','description',\n",
    "                   'latitude', 'longitude','is_location_exact', 'property_type', 'room_type', 'accommodates', 'bathrooms',  \n",
    "                   'bedrooms', 'bed_type', 'amenities', 'price', 'cleaning_fee',\n",
    "                   'review_scores_rating','reviews_per_month','number_of_reviews',\n",
    "                   'review_scores_accuracy','review_scores_cleanliness','review_scores_checkin',\n",
    "                   'review_scores_communication','review_scores_location','review_scores_value',\n",
    "                   'security_deposit', 'extra_people', 'guests_included', 'minimum_nights',  \n",
    "                   'instant_bookable', 'is_business_travel_ready', 'cancellation_policy','availability_365']\n",
    "\n",
    "df = df[columns_to_keep].set_index('id')\n",
    "df.head(2)"
   ]
  },
  {
   "cell_type": "markdown",
   "metadata": {},
   "source": [
    "# Null Values\n",
    "### Inspection + Handling"
   ]
  },
  {
   "cell_type": "code",
   "execution_count": 5,
   "metadata": {},
   "outputs": [
    {
     "data": {
      "text/plain": [
       "host_has_profile_pic              26\n",
       "host_since                        26\n",
       "neighbourhood_cleansed             0\n",
       "neighbourhood_group_cleansed       0\n",
       "host_is_superhost                 26\n",
       "description                      203\n",
       "latitude                           0\n",
       "longitude                          0\n",
       "is_location_exact                  0\n",
       "property_type                      0\n",
       "room_type                          0\n",
       "accommodates                       0\n",
       "bathrooms                         32\n",
       "bedrooms                          18\n",
       "bed_type                           0\n",
       "amenities                          0\n",
       "price                              0\n",
       "cleaning_fee                    7146\n",
       "review_scores_rating            4389\n",
       "reviews_per_month               3914\n",
       "number_of_reviews                  0\n",
       "review_scores_accuracy          4414\n",
       "review_scores_cleanliness       4411\n",
       "review_scores_checkin           4432\n",
       "review_scores_communication     4418\n",
       "review_scores_location          4431\n",
       "review_scores_value             4435\n",
       "security_deposit                9361\n",
       "extra_people                       0\n",
       "guests_included                    0\n",
       "minimum_nights                     0\n",
       "instant_bookable                   0\n",
       "is_business_travel_ready           0\n",
       "cancellation_policy                0\n",
       "availability_365                   0\n",
       "dtype: int64"
      ]
     },
     "execution_count": 5,
     "metadata": {},
     "output_type": "execute_result"
    }
   ],
   "source": [
    "df.isnull().sum()"
   ]
  },
  {
   "cell_type": "markdown",
   "metadata": {},
   "source": [
    "# f/t to int"
   ]
  },
  {
   "cell_type": "code",
   "execution_count": 6,
   "metadata": {},
   "outputs": [],
   "source": [
    "df['is_location_exact'] = df['is_location_exact'].map({'f':0,'t':1})\n",
    "df['host_is_superhost'] = df['host_is_superhost'].map({'f':0,'t':1})\n",
    "df['is_business_travel_ready'] = df['is_business_travel_ready'].map({'f':0,'t':1})\n",
    "df['instant_bookable'] = df['instant_bookable'].map({'f':0,'t':1})\n"
   ]
  },
  {
   "cell_type": "code",
   "execution_count": 7,
   "metadata": {},
   "outputs": [
    {
     "data": {
      "text/html": [
       "<div>\n",
       "<style scoped>\n",
       "    .dataframe tbody tr th:only-of-type {\n",
       "        vertical-align: middle;\n",
       "    }\n",
       "\n",
       "    .dataframe tbody tr th {\n",
       "        vertical-align: top;\n",
       "    }\n",
       "\n",
       "    .dataframe thead th {\n",
       "        text-align: right;\n",
       "    }\n",
       "</style>\n",
       "<table border=\"1\" class=\"dataframe\">\n",
       "  <thead>\n",
       "    <tr style=\"text-align: right;\">\n",
       "      <th></th>\n",
       "      <th>host_has_profile_pic</th>\n",
       "      <th>host_since</th>\n",
       "      <th>neighbourhood_cleansed</th>\n",
       "      <th>neighbourhood_group_cleansed</th>\n",
       "      <th>host_is_superhost</th>\n",
       "      <th>description</th>\n",
       "      <th>latitude</th>\n",
       "      <th>longitude</th>\n",
       "      <th>is_location_exact</th>\n",
       "      <th>property_type</th>\n",
       "      <th>room_type</th>\n",
       "      <th>accommodates</th>\n",
       "      <th>bathrooms</th>\n",
       "      <th>bedrooms</th>\n",
       "      <th>bed_type</th>\n",
       "      <th>amenities</th>\n",
       "      <th>price</th>\n",
       "      <th>cleaning_fee</th>\n",
       "      <th>review_scores_rating</th>\n",
       "      <th>reviews_per_month</th>\n",
       "      <th>number_of_reviews</th>\n",
       "      <th>review_scores_accuracy</th>\n",
       "      <th>review_scores_cleanliness</th>\n",
       "      <th>review_scores_checkin</th>\n",
       "      <th>review_scores_communication</th>\n",
       "      <th>review_scores_location</th>\n",
       "      <th>review_scores_value</th>\n",
       "      <th>security_deposit</th>\n",
       "      <th>extra_people</th>\n",
       "      <th>guests_included</th>\n",
       "      <th>minimum_nights</th>\n",
       "      <th>instant_bookable</th>\n",
       "      <th>is_business_travel_ready</th>\n",
       "      <th>cancellation_policy</th>\n",
       "      <th>availability_365</th>\n",
       "    </tr>\n",
       "    <tr>\n",
       "      <th>id</th>\n",
       "      <th></th>\n",
       "      <th></th>\n",
       "      <th></th>\n",
       "      <th></th>\n",
       "      <th></th>\n",
       "      <th></th>\n",
       "      <th></th>\n",
       "      <th></th>\n",
       "      <th></th>\n",
       "      <th></th>\n",
       "      <th></th>\n",
       "      <th></th>\n",
       "      <th></th>\n",
       "      <th></th>\n",
       "      <th></th>\n",
       "      <th></th>\n",
       "      <th></th>\n",
       "      <th></th>\n",
       "      <th></th>\n",
       "      <th></th>\n",
       "      <th></th>\n",
       "      <th></th>\n",
       "      <th></th>\n",
       "      <th></th>\n",
       "      <th></th>\n",
       "      <th></th>\n",
       "      <th></th>\n",
       "      <th></th>\n",
       "      <th></th>\n",
       "      <th></th>\n",
       "      <th></th>\n",
       "      <th></th>\n",
       "      <th></th>\n",
       "      <th></th>\n",
       "      <th></th>\n",
       "    </tr>\n",
       "  </thead>\n",
       "  <tbody>\n",
       "    <tr>\n",
       "      <th>2015</th>\n",
       "      <td>t</td>\n",
       "      <td>2008-08-18</td>\n",
       "      <td>Brunnenstr. Süd</td>\n",
       "      <td>Mitte</td>\n",
       "      <td>1.0</td>\n",
       "      <td>Great location!  30 of 75 sq meters. This wood...</td>\n",
       "      <td>52.534537</td>\n",
       "      <td>13.402557</td>\n",
       "      <td>0</td>\n",
       "      <td>Guesthouse</td>\n",
       "      <td>Entire home/apt</td>\n",
       "      <td>3</td>\n",
       "      <td>1.0</td>\n",
       "      <td>1.0</td>\n",
       "      <td>Real Bed</td>\n",
       "      <td>{TV,\"Cable TV\",Wifi,Kitchen,Gym,Heating,\"Famil...</td>\n",
       "      <td>$60.00</td>\n",
       "      <td>$30.00</td>\n",
       "      <td>93.0</td>\n",
       "      <td>3.76</td>\n",
       "      <td>118</td>\n",
       "      <td>10.0</td>\n",
       "      <td>9.0</td>\n",
       "      <td>10.0</td>\n",
       "      <td>10.0</td>\n",
       "      <td>10.0</td>\n",
       "      <td>9.0</td>\n",
       "      <td>$200.00</td>\n",
       "      <td>$28.00</td>\n",
       "      <td>1</td>\n",
       "      <td>4</td>\n",
       "      <td>0</td>\n",
       "      <td>0</td>\n",
       "      <td>strict_14_with_grace_period</td>\n",
       "      <td>141</td>\n",
       "    </tr>\n",
       "    <tr>\n",
       "      <th>2695</th>\n",
       "      <td>t</td>\n",
       "      <td>2008-09-16</td>\n",
       "      <td>Prenzlauer Berg Nordwest</td>\n",
       "      <td>Pankow</td>\n",
       "      <td>0.0</td>\n",
       "      <td>In the summertime we are spending most of our ...</td>\n",
       "      <td>52.548513</td>\n",
       "      <td>13.404553</td>\n",
       "      <td>1</td>\n",
       "      <td>Apartment</td>\n",
       "      <td>Private room</td>\n",
       "      <td>2</td>\n",
       "      <td>1.0</td>\n",
       "      <td>1.0</td>\n",
       "      <td>Real Bed</td>\n",
       "      <td>{Wifi,Kitchen,Elevator,Heating,Washer,Essentia...</td>\n",
       "      <td>$17.00</td>\n",
       "      <td>$0.00</td>\n",
       "      <td>100.0</td>\n",
       "      <td>1.42</td>\n",
       "      <td>6</td>\n",
       "      <td>10.0</td>\n",
       "      <td>10.0</td>\n",
       "      <td>10.0</td>\n",
       "      <td>10.0</td>\n",
       "      <td>10.0</td>\n",
       "      <td>10.0</td>\n",
       "      <td>$0.00</td>\n",
       "      <td>$0.00</td>\n",
       "      <td>1</td>\n",
       "      <td>2</td>\n",
       "      <td>0</td>\n",
       "      <td>0</td>\n",
       "      <td>flexible</td>\n",
       "      <td>0</td>\n",
       "    </tr>\n",
       "    <tr>\n",
       "      <th>3176</th>\n",
       "      <td>t</td>\n",
       "      <td>2008-10-19</td>\n",
       "      <td>Prenzlauer Berg Südwest</td>\n",
       "      <td>Pankow</td>\n",
       "      <td>0.0</td>\n",
       "      <td>This beautiful first floor apartment  is situa...</td>\n",
       "      <td>52.534996</td>\n",
       "      <td>13.417579</td>\n",
       "      <td>1</td>\n",
       "      <td>Apartment</td>\n",
       "      <td>Entire home/apt</td>\n",
       "      <td>4</td>\n",
       "      <td>1.0</td>\n",
       "      <td>1.0</td>\n",
       "      <td>Real Bed</td>\n",
       "      <td>{Internet,Wifi,Kitchen,\"Buzzer/wireless interc...</td>\n",
       "      <td>$90.00</td>\n",
       "      <td>$50.00</td>\n",
       "      <td>92.0</td>\n",
       "      <td>1.25</td>\n",
       "      <td>143</td>\n",
       "      <td>9.0</td>\n",
       "      <td>9.0</td>\n",
       "      <td>9.0</td>\n",
       "      <td>9.0</td>\n",
       "      <td>10.0</td>\n",
       "      <td>9.0</td>\n",
       "      <td>$200.00</td>\n",
       "      <td>$20.00</td>\n",
       "      <td>2</td>\n",
       "      <td>62</td>\n",
       "      <td>1</td>\n",
       "      <td>0</td>\n",
       "      <td>strict_14_with_grace_period</td>\n",
       "      <td>220</td>\n",
       "    </tr>\n",
       "  </tbody>\n",
       "</table>\n",
       "</div>"
      ],
      "text/plain": [
       "     host_has_profile_pic  host_since    neighbourhood_cleansed  \\\n",
       "id                                                                \n",
       "2015                    t  2008-08-18           Brunnenstr. Süd   \n",
       "2695                    t  2008-09-16  Prenzlauer Berg Nordwest   \n",
       "3176                    t  2008-10-19   Prenzlauer Berg Südwest   \n",
       "\n",
       "     neighbourhood_group_cleansed  host_is_superhost  \\\n",
       "id                                                     \n",
       "2015                        Mitte                1.0   \n",
       "2695                       Pankow                0.0   \n",
       "3176                       Pankow                0.0   \n",
       "\n",
       "                                            description   latitude  longitude  \\\n",
       "id                                                                              \n",
       "2015  Great location!  30 of 75 sq meters. This wood...  52.534537  13.402557   \n",
       "2695  In the summertime we are spending most of our ...  52.548513  13.404553   \n",
       "3176  This beautiful first floor apartment  is situa...  52.534996  13.417579   \n",
       "\n",
       "      is_location_exact property_type        room_type  accommodates  \\\n",
       "id                                                                     \n",
       "2015                  0    Guesthouse  Entire home/apt             3   \n",
       "2695                  1     Apartment     Private room             2   \n",
       "3176                  1     Apartment  Entire home/apt             4   \n",
       "\n",
       "      bathrooms  bedrooms  bed_type  \\\n",
       "id                                    \n",
       "2015        1.0       1.0  Real Bed   \n",
       "2695        1.0       1.0  Real Bed   \n",
       "3176        1.0       1.0  Real Bed   \n",
       "\n",
       "                                              amenities   price cleaning_fee  \\\n",
       "id                                                                             \n",
       "2015  {TV,\"Cable TV\",Wifi,Kitchen,Gym,Heating,\"Famil...  $60.00       $30.00   \n",
       "2695  {Wifi,Kitchen,Elevator,Heating,Washer,Essentia...  $17.00        $0.00   \n",
       "3176  {Internet,Wifi,Kitchen,\"Buzzer/wireless interc...  $90.00       $50.00   \n",
       "\n",
       "      review_scores_rating  reviews_per_month  number_of_reviews  \\\n",
       "id                                                                 \n",
       "2015                  93.0               3.76                118   \n",
       "2695                 100.0               1.42                  6   \n",
       "3176                  92.0               1.25                143   \n",
       "\n",
       "      review_scores_accuracy  review_scores_cleanliness  \\\n",
       "id                                                        \n",
       "2015                    10.0                        9.0   \n",
       "2695                    10.0                       10.0   \n",
       "3176                     9.0                        9.0   \n",
       "\n",
       "      review_scores_checkin  review_scores_communication  \\\n",
       "id                                                         \n",
       "2015                   10.0                         10.0   \n",
       "2695                   10.0                         10.0   \n",
       "3176                    9.0                          9.0   \n",
       "\n",
       "      review_scores_location  review_scores_value security_deposit  \\\n",
       "id                                                                   \n",
       "2015                    10.0                  9.0          $200.00   \n",
       "2695                    10.0                 10.0            $0.00   \n",
       "3176                    10.0                  9.0          $200.00   \n",
       "\n",
       "     extra_people  guests_included  minimum_nights  instant_bookable  \\\n",
       "id                                                                     \n",
       "2015       $28.00                1               4                 0   \n",
       "2695        $0.00                1               2                 0   \n",
       "3176       $20.00                2              62                 1   \n",
       "\n",
       "      is_business_travel_ready          cancellation_policy  availability_365  \n",
       "id                                                                             \n",
       "2015                         0  strict_14_with_grace_period               141  \n",
       "2695                         0                     flexible                 0  \n",
       "3176                         0  strict_14_with_grace_period               220  "
      ]
     },
     "execution_count": 7,
     "metadata": {},
     "output_type": "execute_result"
    }
   ],
   "source": [
    "df.head(3)"
   ]
  },
  {
   "cell_type": "markdown",
   "metadata": {},
   "source": [
    "# Profile Pics"
   ]
  },
  {
   "cell_type": "code",
   "execution_count": 8,
   "metadata": {},
   "outputs": [
    {
     "data": {
      "text/plain": [
       "{'f', nan, 't'}"
      ]
     },
     "execution_count": 8,
     "metadata": {},
     "output_type": "execute_result"
    }
   ],
   "source": [
    "set(df['host_has_profile_pic'])"
   ]
  },
  {
   "cell_type": "code",
   "execution_count": 9,
   "metadata": {},
   "outputs": [],
   "source": [
    "df['host_has_profile_pic'].fillna('f',inplace=True)"
   ]
  },
  {
   "cell_type": "code",
   "execution_count": 10,
   "metadata": {},
   "outputs": [
    {
     "data": {
      "text/plain": [
       "<matplotlib.axes._subplots.AxesSubplot at 0x7fa6b2185208>"
      ]
     },
     "execution_count": 10,
     "metadata": {},
     "output_type": "execute_result"
    },
    {
     "data": {
      "image/png": "[encoded data removed]",
      "text/plain": [
       "<Figure size 432x288 with 1 Axes>"
      ]
     },
     "metadata": {
      "needs_background": "light"
     },
     "output_type": "display_data"
    }
   ],
   "source": [
    "df['host_has_profile_pic'] = df['host_has_profile_pic'].map({'f':0,'t':1})\n",
    "sns.countplot(x='host_has_profile_pic',data=df)"
   ]
  },
  {
   "cell_type": "code",
   "execution_count": 11,
   "metadata": {},
   "outputs": [
    {
     "data": {
      "text/plain": [
       "1    22470\n",
       "0       82\n",
       "Name: host_has_profile_pic, dtype: int64"
      ]
     },
     "execution_count": 11,
     "metadata": {},
     "output_type": "execute_result"
    }
   ],
   "source": [
    "df['host_has_profile_pic'].value_counts()"
   ]
  },
  {
   "cell_type": "markdown",
   "metadata": {},
   "source": [
    "# Price"
   ]
  },
  {
   "cell_type": "code",
   "execution_count": 12,
   "metadata": {},
   "outputs": [],
   "source": [
    "df['price'] = df['price'].str.replace('$', '').str.replace(',', '').astype(float)\n",
    "df['cleaning_fee'] = df['cleaning_fee'].str.replace('$', '').str.replace(',', '').astype(float)\n",
    "df['security_deposit'] = df['security_deposit'].str.replace('$', '').str.replace(',', '').astype(float)\n",
    "df['extra_people'] = df['extra_people'].str.replace('$', '').str.replace(',', '').astype(float)"
   ]
  },
  {
   "cell_type": "code",
   "execution_count": 13,
   "metadata": {},
   "outputs": [
    {
     "data": {
      "text/plain": [
       "0"
      ]
     },
     "execution_count": 13,
     "metadata": {},
     "output_type": "execute_result"
    }
   ],
   "source": [
    "df['cleaning_fee'].fillna(df['cleaning_fee'].median(), inplace=True)\n",
    "df['cleaning_fee'].isna().sum()"
   ]
  },
  {
   "cell_type": "code",
   "execution_count": 14,
   "metadata": {},
   "outputs": [
    {
     "data": {
      "text/plain": [
       "0"
      ]
     },
     "execution_count": 14,
     "metadata": {},
     "output_type": "execute_result"
    }
   ],
   "source": [
    "df['security_deposit'].fillna(df['security_deposit'].median(), inplace=True)\n",
    "df['security_deposit'].isna().sum()"
   ]
  },
  {
   "cell_type": "code",
   "execution_count": 15,
   "metadata": {},
   "outputs": [
    {
     "data": {
      "text/plain": [
       "count    22552.000000\n",
       "mean        67.143668\n",
       "std        220.266210\n",
       "min          0.000000\n",
       "25%         30.000000\n",
       "50%         45.000000\n",
       "75%         70.000000\n",
       "max       9000.000000\n",
       "Name: price, dtype: float64"
      ]
     },
     "execution_count": 15,
     "metadata": {},
     "output_type": "execute_result"
    }
   ],
   "source": [
    "df['price'].describe()"
   ]
  },
  {
   "cell_type": "code",
   "execution_count": 16,
   "metadata": {},
   "outputs": [
    {
     "data": {
      "text/plain": [
       "8"
      ]
     },
     "execution_count": 16,
     "metadata": {},
     "output_type": "execute_result"
    }
   ],
   "source": [
    "set1=set(i for i in df[(df['price']==0)].index.tolist())\n",
    "len(set1)"
   ]
  },
  {
   "cell_type": "code",
   "execution_count": 17,
   "metadata": {},
   "outputs": [],
   "source": [
    "df = df.drop(list(set1))\n",
    "df.reset_index(inplace=True)\n",
    "df['price'] = np.log1p(df['price'])"
   ]
  },
  {
   "cell_type": "code",
   "execution_count": 18,
   "metadata": {},
   "outputs": [
    {
     "name": "stderr",
     "output_type": "stream",
     "text": [
      "/home/priyanshu/anaconda3/envs/gpu/lib/python3.6/site-packages/scipy/stats/stats.py:1713: FutureWarning: Using a non-tuple sequence for multidimensional indexing is deprecated; use `arr[tuple(seq)]` instead of `arr[seq]`. In the future this will be interpreted as an array index, `arr[np.array(seq)]`, which will result either in an error or a different result.\n",
      "  return np.add.reduce(sorted[indexer] * weights, axis=axis) / sumval\n"
     ]
    },
    {
     "name": "stdout",
     "output_type": "stream",
     "text": [
      "Skewness: 1.149665\n",
      "Kurtosis: 5.184078\n"
     ]
    },
    {
     "data": {
      "image/png": "[encoded data removed]",
      "text/plain": [
       "<Figure size 432x288 with 1 Axes>"
      ]
     },
     "metadata": {
      "needs_background": "light"
     },
     "output_type": "display_data"
    },
    {
     "data": {
      "image/png": "[encoded data removed]",
      "text/plain": [
       "<Figure size 432x288 with 1 Axes>"
      ]
     },
     "metadata": {
      "needs_background": "light"
     },
     "output_type": "display_data"
    }
   ],
   "source": [
    "sns.distplot(df['price'], fit=norm);\n",
    "fig = plt.figure()\n",
    "res = scipy.stats.probplot(df['price'], plot=plt)\n",
    "print(\"Skewness: %f\" % df['price'].skew())\n",
    "print(\"Kurtosis: %f\" % df['price'].kurt())"
   ]
  },
  {
   "cell_type": "markdown",
   "metadata": {},
   "source": [
    "# Room Types"
   ]
  },
  {
   "cell_type": "code",
   "execution_count": 19,
   "metadata": {},
   "outputs": [
    {
     "data": {
      "text/plain": [
       "<matplotlib.axes._subplots.AxesSubplot at 0x7fa6b203cc50>"
      ]
     },
     "execution_count": 19,
     "metadata": {},
     "output_type": "execute_result"
    },
    {
     "data": {
      "image/png": "[encoded data removed]",
      "text/plain": [
       "<Figure size 432x288 with 1 Axes>"
      ]
     },
     "metadata": {
      "needs_background": "light"
     },
     "output_type": "display_data"
    }
   ],
   "source": [
    "sns.countplot(x='room_type',data=df)"
   ]
  },
  {
   "cell_type": "markdown",
   "metadata": {},
   "source": [
    "# Neighbourhood Group"
   ]
  },
  {
   "cell_type": "code",
   "execution_count": 20,
   "metadata": {},
   "outputs": [
    {
     "data": {
      "text/plain": [
       "<matplotlib.axes._subplots.AxesSubplot at 0x7fa6b203c128>"
      ]
     },
     "execution_count": 20,
     "metadata": {},
     "output_type": "execute_result"
    },
    {
     "data": {
      "image/png": "[encoded data removed]",
      "text/plain": [
       "<Figure size 432x288 with 1 Axes>"
      ]
     },
     "metadata": {
      "needs_background": "light"
     },
     "output_type": "display_data"
    }
   ],
   "source": [
    "sns.countplot(x='neighbourhood_group_cleansed',data=df)"
   ]
  },
  {
   "cell_type": "markdown",
   "metadata": {},
   "source": [
    "# Neighbourhood"
   ]
  },
  {
   "cell_type": "code",
   "execution_count": 21,
   "metadata": {},
   "outputs": [
    {
     "data": {
      "text/plain": [
       "<matplotlib.axes._subplots.AxesSubplot at 0x7fa6b1f6fc18>"
      ]
     },
     "execution_count": 21,
     "metadata": {},
     "output_type": "execute_result"
    },
    {
     "data": {
      "image/png": "[encoded data removed]",
      "text/plain": [
       "<Figure size 432x288 with 1 Axes>"
      ]
     },
     "metadata": {
      "needs_background": "light"
     },
     "output_type": "display_data"
    }
   ],
   "source": [
    "sns.countplot(x='neighbourhood_cleansed',data=df)"
   ]
  },
  {
   "cell_type": "code",
   "execution_count": 22,
   "metadata": {},
   "outputs": [],
   "source": [
    "z = df['neighbourhood_cleansed'].value_counts()"
   ]
  },
  {
   "cell_type": "code",
   "execution_count": 23,
   "metadata": {
    "scrolled": true
   },
   "outputs": [
    {
     "data": {
      "text/plain": [
       "90"
      ]
     },
     "execution_count": 23,
     "metadata": {},
     "output_type": "execute_result"
    }
   ],
   "source": [
    "others = []\n",
    "for i in set(df['neighbourhood_cleansed']):\n",
    "    if z[i]<100:\n",
    "        others.append(i)\n",
    "len(others)"
   ]
  },
  {
   "cell_type": "code",
   "execution_count": 24,
   "metadata": {},
   "outputs": [
    {
     "name": "stderr",
     "output_type": "stream",
     "text": [
      "100%|██████████| 22544/22544 [00:02<00:00, 10412.96it/s]\n"
     ]
    }
   ],
   "source": [
    "for i in tqdm(range(len(df))):\n",
    "    if df.loc[i,'neighbourhood_cleansed'] in others:\n",
    "        df.loc[i,'neighbourhood_cleansed'] = 'Others'"
   ]
  },
  {
   "cell_type": "markdown",
   "metadata": {},
   "source": [
    "## Propery Type"
   ]
  },
  {
   "cell_type": "code",
   "execution_count": 25,
   "metadata": {},
   "outputs": [],
   "source": [
    "z = df['property_type'].value_counts()"
   ]
  },
  {
   "cell_type": "code",
   "execution_count": 26,
   "metadata": {},
   "outputs": [
    {
     "data": {
      "text/plain": [
       "27"
      ]
     },
     "execution_count": 26,
     "metadata": {},
     "output_type": "execute_result"
    }
   ],
   "source": [
    "others = []\n",
    "for i in set(df['property_type']):\n",
    "    if z[i]<100:\n",
    "        others.append(i)\n",
    "len(others)"
   ]
  },
  {
   "cell_type": "code",
   "execution_count": 27,
   "metadata": {},
   "outputs": [
    {
     "name": "stderr",
     "output_type": "stream",
     "text": [
      "100%|██████████| 22544/22544 [00:00<00:00, 118378.53it/s]\n"
     ]
    }
   ],
   "source": [
    "for i in tqdm(range(len(df))):\n",
    "    if df.loc[i,'neighbourhood_cleansed'] in others:\n",
    "        df.loc[i,'neighbourhood_cleansed'] = 'Others'"
   ]
  },
  {
   "cell_type": "code",
   "execution_count": 28,
   "metadata": {},
   "outputs": [
    {
     "name": "stderr",
     "output_type": "stream",
     "text": [
      "100%|██████████| 22544/22544 [00:00<00:00, 127802.91it/s]\n"
     ]
    }
   ],
   "source": [
    "for i in tqdm(range(len(df))):\n",
    "    if df.loc[i,'neighbourhood_cleansed'] in others:\n",
    "        df.loc[i,'neighbourhood_cleansed'] = 'Others'"
   ]
  },
  {
   "cell_type": "markdown",
   "metadata": {},
   "source": [
    "# Bathrooms"
   ]
  },
  {
   "cell_type": "code",
   "execution_count": 29,
   "metadata": {},
   "outputs": [
    {
     "data": {
      "text/plain": [
       "1.0    19801\n",
       "2.0     1268\n",
       "1.5     1145\n",
       "0.5      104\n",
       "2.5       74\n",
       "3.0       50\n",
       "0.0       41\n",
       "4.0       12\n",
       "3.5        3\n",
       "8.5        3\n",
       "7.0        3\n",
       "7.5        2\n",
       "5.0        2\n",
       "8.0        2\n",
       "4.5        1\n",
       "6.0        1\n",
       "Name: bathrooms, dtype: int64"
      ]
     },
     "execution_count": 29,
     "metadata": {},
     "output_type": "execute_result"
    }
   ],
   "source": [
    "df['bathrooms'].value_counts()"
   ]
  },
  {
   "cell_type": "code",
   "execution_count": 30,
   "metadata": {},
   "outputs": [],
   "source": [
    "df['bathrooms'].fillna(1,inplace=True)"
   ]
  },
  {
   "cell_type": "markdown",
   "metadata": {},
   "source": [
    "# Bedroom"
   ]
  },
  {
   "cell_type": "code",
   "execution_count": 31,
   "metadata": {},
   "outputs": [
    {
     "data": {
      "text/plain": [
       "1.0     17159\n",
       "2.0      2970\n",
       "0.0      1477\n",
       "3.0       723\n",
       "4.0       143\n",
       "5.0        34\n",
       "6.0        10\n",
       "8.0         4\n",
       "7.0         3\n",
       "10.0        1\n",
       "9.0         1\n",
       "12.0        1\n",
       "Name: bedrooms, dtype: int64"
      ]
     },
     "execution_count": 31,
     "metadata": {},
     "output_type": "execute_result"
    }
   ],
   "source": [
    "df['bedrooms'].value_counts()"
   ]
  },
  {
   "cell_type": "code",
   "execution_count": 32,
   "metadata": {},
   "outputs": [],
   "source": [
    "df['bedrooms'].fillna(1,inplace=True)"
   ]
  },
  {
   "cell_type": "markdown",
   "metadata": {},
   "source": [
    "# Host Details"
   ]
  },
  {
   "cell_type": "code",
   "execution_count": 33,
   "metadata": {},
   "outputs": [
    {
     "data": {
      "text/plain": [
       "float"
      ]
     },
     "execution_count": 33,
     "metadata": {},
     "output_type": "execute_result"
    }
   ],
   "source": [
    "type(list(set(df['host_since']))[0])"
   ]
  },
  {
   "cell_type": "code",
   "execution_count": 34,
   "metadata": {},
   "outputs": [
    {
     "data": {
      "text/plain": [
       "26"
      ]
     },
     "execution_count": 34,
     "metadata": {},
     "output_type": "execute_result"
    }
   ],
   "source": [
    "set2=[]\n",
    "z = df['host_since'].isnull()\n",
    "for i in range(len(z)):\n",
    "    if z.loc[i]==True:\n",
    "        set2.append(i)\n",
    "z = df['host_is_superhost'].isnull()\n",
    "for i in range(len(z)):\n",
    "    if z.loc[i]==True:\n",
    "        set2.append(i)\n",
    "set2 = set(set2)\n",
    "len(set2)"
   ]
  },
  {
   "cell_type": "code",
   "execution_count": 35,
   "metadata": {},
   "outputs": [],
   "source": [
    "df = df.drop(list(set2))\n",
    "df.reset_index(inplace=True)"
   ]
  },
  {
   "cell_type": "markdown",
   "metadata": {},
   "source": [
    "# Reviews"
   ]
  },
  {
   "cell_type": "code",
   "execution_count": 36,
   "metadata": {},
   "outputs": [],
   "source": [
    "dropped = ['review_scores_rating','review_scores_accuracy','review_scores_cleanliness','review_scores_checkin',\n",
    "            'review_scores_communication','review_scores_location','review_scores_value']\n",
    "df.drop(dropped,axis=1,inplace=True)"
   ]
  },
  {
   "cell_type": "code",
   "execution_count": 37,
   "metadata": {},
   "outputs": [
    {
     "data": {
      "text/html": [
       "<div>\n",
       "<style scoped>\n",
       "    .dataframe tbody tr th:only-of-type {\n",
       "        vertical-align: middle;\n",
       "    }\n",
       "\n",
       "    .dataframe tbody tr th {\n",
       "        vertical-align: top;\n",
       "    }\n",
       "\n",
       "    .dataframe thead th {\n",
       "        text-align: right;\n",
       "    }\n",
       "</style>\n",
       "<table border=\"1\" class=\"dataframe\">\n",
       "  <thead>\n",
       "    <tr style=\"text-align: right;\">\n",
       "      <th></th>\n",
       "      <th>index</th>\n",
       "      <th>id</th>\n",
       "      <th>host_has_profile_pic</th>\n",
       "      <th>host_since</th>\n",
       "      <th>neighbourhood_cleansed</th>\n",
       "      <th>neighbourhood_group_cleansed</th>\n",
       "      <th>host_is_superhost</th>\n",
       "      <th>description</th>\n",
       "      <th>latitude</th>\n",
       "      <th>longitude</th>\n",
       "      <th>is_location_exact</th>\n",
       "      <th>property_type</th>\n",
       "      <th>room_type</th>\n",
       "      <th>accommodates</th>\n",
       "      <th>bathrooms</th>\n",
       "      <th>bedrooms</th>\n",
       "      <th>bed_type</th>\n",
       "      <th>amenities</th>\n",
       "      <th>price</th>\n",
       "      <th>cleaning_fee</th>\n",
       "      <th>reviews_per_month</th>\n",
       "      <th>number_of_reviews</th>\n",
       "      <th>security_deposit</th>\n",
       "      <th>extra_people</th>\n",
       "      <th>guests_included</th>\n",
       "      <th>minimum_nights</th>\n",
       "      <th>instant_bookable</th>\n",
       "      <th>is_business_travel_ready</th>\n",
       "      <th>cancellation_policy</th>\n",
       "      <th>availability_365</th>\n",
       "    </tr>\n",
       "  </thead>\n",
       "  <tbody>\n",
       "    <tr>\n",
       "      <th>0</th>\n",
       "      <td>0</td>\n",
       "      <td>2015</td>\n",
       "      <td>1</td>\n",
       "      <td>2008-08-18</td>\n",
       "      <td>Brunnenstr. Süd</td>\n",
       "      <td>Mitte</td>\n",
       "      <td>1.0</td>\n",
       "      <td>Great location!  30 of 75 sq meters. This wood...</td>\n",
       "      <td>52.534537</td>\n",
       "      <td>13.402557</td>\n",
       "      <td>0</td>\n",
       "      <td>Guesthouse</td>\n",
       "      <td>Entire home/apt</td>\n",
       "      <td>3</td>\n",
       "      <td>1.0</td>\n",
       "      <td>1.0</td>\n",
       "      <td>Real Bed</td>\n",
       "      <td>{TV,\"Cable TV\",Wifi,Kitchen,Gym,Heating,\"Famil...</td>\n",
       "      <td>4.110874</td>\n",
       "      <td>30.0</td>\n",
       "      <td>3.76</td>\n",
       "      <td>118</td>\n",
       "      <td>200.0</td>\n",
       "      <td>28.0</td>\n",
       "      <td>1</td>\n",
       "      <td>4</td>\n",
       "      <td>0</td>\n",
       "      <td>0</td>\n",
       "      <td>strict_14_with_grace_period</td>\n",
       "      <td>141</td>\n",
       "    </tr>\n",
       "    <tr>\n",
       "      <th>1</th>\n",
       "      <td>1</td>\n",
       "      <td>2695</td>\n",
       "      <td>1</td>\n",
       "      <td>2008-09-16</td>\n",
       "      <td>Prenzlauer Berg Nordwest</td>\n",
       "      <td>Pankow</td>\n",
       "      <td>0.0</td>\n",
       "      <td>In the summertime we are spending most of our ...</td>\n",
       "      <td>52.548513</td>\n",
       "      <td>13.404553</td>\n",
       "      <td>1</td>\n",
       "      <td>Apartment</td>\n",
       "      <td>Private room</td>\n",
       "      <td>2</td>\n",
       "      <td>1.0</td>\n",
       "      <td>1.0</td>\n",
       "      <td>Real Bed</td>\n",
       "      <td>{Wifi,Kitchen,Elevator,Heating,Washer,Essentia...</td>\n",
       "      <td>2.890372</td>\n",
       "      <td>0.0</td>\n",
       "      <td>1.42</td>\n",
       "      <td>6</td>\n",
       "      <td>0.0</td>\n",
       "      <td>0.0</td>\n",
       "      <td>1</td>\n",
       "      <td>2</td>\n",
       "      <td>0</td>\n",
       "      <td>0</td>\n",
       "      <td>flexible</td>\n",
       "      <td>0</td>\n",
       "    </tr>\n",
       "  </tbody>\n",
       "</table>\n",
       "</div>"
      ],
      "text/plain": [
       "   index    id  host_has_profile_pic  host_since    neighbourhood_cleansed  \\\n",
       "0      0  2015                     1  2008-08-18           Brunnenstr. Süd   \n",
       "1      1  2695                     1  2008-09-16  Prenzlauer Berg Nordwest   \n",
       "\n",
       "  neighbourhood_group_cleansed  host_is_superhost  \\\n",
       "0                        Mitte                1.0   \n",
       "1                       Pankow                0.0   \n",
       "\n",
       "                                         description   latitude  longitude  \\\n",
       "0  Great location!  30 of 75 sq meters. This wood...  52.534537  13.402557   \n",
       "1  In the summertime we are spending most of our ...  52.548513  13.404553   \n",
       "\n",
       "   is_location_exact property_type        room_type  accommodates  bathrooms  \\\n",
       "0                  0    Guesthouse  Entire home/apt             3        1.0   \n",
       "1                  1     Apartment     Private room             2        1.0   \n",
       "\n",
       "   bedrooms  bed_type                                          amenities  \\\n",
       "0       1.0  Real Bed  {TV,\"Cable TV\",Wifi,Kitchen,Gym,Heating,\"Famil...   \n",
       "1       1.0  Real Bed  {Wifi,Kitchen,Elevator,Heating,Washer,Essentia...   \n",
       "\n",
       "      price  cleaning_fee  reviews_per_month  number_of_reviews  \\\n",
       "0  4.110874          30.0               3.76                118   \n",
       "1  2.890372           0.0               1.42                  6   \n",
       "\n",
       "   security_deposit  extra_people  guests_included  minimum_nights  \\\n",
       "0             200.0          28.0                1               4   \n",
       "1               0.0           0.0                1               2   \n",
       "\n",
       "   instant_bookable  is_business_travel_ready          cancellation_policy  \\\n",
       "0                 0                         0  strict_14_with_grace_period   \n",
       "1                 0                         0                     flexible   \n",
       "\n",
       "   availability_365  \n",
       "0               141  \n",
       "1                 0  "
      ]
     },
     "execution_count": 37,
     "metadata": {},
     "output_type": "execute_result"
    }
   ],
   "source": [
    "df.head(2)"
   ]
  },
  {
   "cell_type": "markdown",
   "metadata": {},
   "source": [
    "# Cancellation"
   ]
  },
  {
   "cell_type": "code",
   "execution_count": 38,
   "metadata": {},
   "outputs": [
    {
     "data": {
      "text/plain": [
       "flexible                       9082\n",
       "moderate                       7086\n",
       "strict_14_with_grace_period    6283\n",
       "super_strict_30                  53\n",
       "super_strict_60                  14\n",
       "Name: cancellation_policy, dtype: int64"
      ]
     },
     "execution_count": 38,
     "metadata": {},
     "output_type": "execute_result"
    }
   ],
   "source": [
    "df['cancellation_policy'].value_counts()"
   ]
  },
  {
   "cell_type": "markdown",
   "metadata": {},
   "source": [
    "# Dropping features"
   ]
  },
  {
   "cell_type": "code",
   "execution_count": 39,
   "metadata": {},
   "outputs": [],
   "source": [
    "y = df['price']\n",
    "df.drop(['price'],axis=1,inplace=True)"
   ]
  },
  {
   "cell_type": "code",
   "execution_count": 40,
   "metadata": {},
   "outputs": [
    {
     "data": {
      "text/plain": [
       "index                              0\n",
       "id                                 0\n",
       "host_has_profile_pic               0\n",
       "host_since                         0\n",
       "neighbourhood_cleansed             0\n",
       "neighbourhood_group_cleansed       0\n",
       "host_is_superhost                  0\n",
       "description                      203\n",
       "latitude                           0\n",
       "longitude                          0\n",
       "is_location_exact                  0\n",
       "property_type                      0\n",
       "room_type                          0\n",
       "accommodates                       0\n",
       "bathrooms                          0\n",
       "bedrooms                           0\n",
       "bed_type                           0\n",
       "amenities                          0\n",
       "cleaning_fee                       0\n",
       "reviews_per_month               3901\n",
       "number_of_reviews                  0\n",
       "security_deposit                   0\n",
       "extra_people                       0\n",
       "guests_included                    0\n",
       "minimum_nights                     0\n",
       "instant_bookable                   0\n",
       "is_business_travel_ready           0\n",
       "cancellation_policy                0\n",
       "availability_365                   0\n",
       "dtype: int64"
      ]
     },
     "execution_count": 40,
     "metadata": {},
     "output_type": "execute_result"
    }
   ],
   "source": [
    "df.isnull().sum()"
   ]
  },
  {
   "cell_type": "code",
   "execution_count": 41,
   "metadata": {},
   "outputs": [
    {
     "data": {
      "text/html": [
       "<div>\n",
       "<style scoped>\n",
       "    .dataframe tbody tr th:only-of-type {\n",
       "        vertical-align: middle;\n",
       "    }\n",
       "\n",
       "    .dataframe tbody tr th {\n",
       "        vertical-align: top;\n",
       "    }\n",
       "\n",
       "    .dataframe thead th {\n",
       "        text-align: right;\n",
       "    }\n",
       "</style>\n",
       "<table border=\"1\" class=\"dataframe\">\n",
       "  <thead>\n",
       "    <tr style=\"text-align: right;\">\n",
       "      <th></th>\n",
       "      <th>index</th>\n",
       "      <th>id</th>\n",
       "      <th>host_has_profile_pic</th>\n",
       "      <th>host_since</th>\n",
       "      <th>neighbourhood_cleansed</th>\n",
       "      <th>neighbourhood_group_cleansed</th>\n",
       "      <th>host_is_superhost</th>\n",
       "      <th>description</th>\n",
       "      <th>latitude</th>\n",
       "      <th>longitude</th>\n",
       "      <th>is_location_exact</th>\n",
       "      <th>property_type</th>\n",
       "      <th>room_type</th>\n",
       "      <th>accommodates</th>\n",
       "      <th>bathrooms</th>\n",
       "      <th>bedrooms</th>\n",
       "      <th>bed_type</th>\n",
       "      <th>amenities</th>\n",
       "      <th>cleaning_fee</th>\n",
       "      <th>reviews_per_month</th>\n",
       "      <th>number_of_reviews</th>\n",
       "      <th>security_deposit</th>\n",
       "      <th>extra_people</th>\n",
       "      <th>guests_included</th>\n",
       "      <th>minimum_nights</th>\n",
       "      <th>instant_bookable</th>\n",
       "      <th>is_business_travel_ready</th>\n",
       "      <th>cancellation_policy</th>\n",
       "      <th>availability_365</th>\n",
       "    </tr>\n",
       "  </thead>\n",
       "  <tbody>\n",
       "    <tr>\n",
       "      <th>0</th>\n",
       "      <td>0</td>\n",
       "      <td>2015</td>\n",
       "      <td>1</td>\n",
       "      <td>2008-08-18</td>\n",
       "      <td>Brunnenstr. Süd</td>\n",
       "      <td>Mitte</td>\n",
       "      <td>1.0</td>\n",
       "      <td>Great location!  30 of 75 sq meters. This wood...</td>\n",
       "      <td>52.534537</td>\n",
       "      <td>13.402557</td>\n",
       "      <td>0</td>\n",
       "      <td>Guesthouse</td>\n",
       "      <td>Entire home/apt</td>\n",
       "      <td>3</td>\n",
       "      <td>1.0</td>\n",
       "      <td>1.0</td>\n",
       "      <td>Real Bed</td>\n",
       "      <td>{TV,\"Cable TV\",Wifi,Kitchen,Gym,Heating,\"Famil...</td>\n",
       "      <td>30.0</td>\n",
       "      <td>3.76</td>\n",
       "      <td>118</td>\n",
       "      <td>200.0</td>\n",
       "      <td>28.0</td>\n",
       "      <td>1</td>\n",
       "      <td>4</td>\n",
       "      <td>0</td>\n",
       "      <td>0</td>\n",
       "      <td>strict_14_with_grace_period</td>\n",
       "      <td>141</td>\n",
       "    </tr>\n",
       "    <tr>\n",
       "      <th>1</th>\n",
       "      <td>1</td>\n",
       "      <td>2695</td>\n",
       "      <td>1</td>\n",
       "      <td>2008-09-16</td>\n",
       "      <td>Prenzlauer Berg Nordwest</td>\n",
       "      <td>Pankow</td>\n",
       "      <td>0.0</td>\n",
       "      <td>In the summertime we are spending most of our ...</td>\n",
       "      <td>52.548513</td>\n",
       "      <td>13.404553</td>\n",
       "      <td>1</td>\n",
       "      <td>Apartment</td>\n",
       "      <td>Private room</td>\n",
       "      <td>2</td>\n",
       "      <td>1.0</td>\n",
       "      <td>1.0</td>\n",
       "      <td>Real Bed</td>\n",
       "      <td>{Wifi,Kitchen,Elevator,Heating,Washer,Essentia...</td>\n",
       "      <td>0.0</td>\n",
       "      <td>1.42</td>\n",
       "      <td>6</td>\n",
       "      <td>0.0</td>\n",
       "      <td>0.0</td>\n",
       "      <td>1</td>\n",
       "      <td>2</td>\n",
       "      <td>0</td>\n",
       "      <td>0</td>\n",
       "      <td>flexible</td>\n",
       "      <td>0</td>\n",
       "    </tr>\n",
       "  </tbody>\n",
       "</table>\n",
       "</div>"
      ],
      "text/plain": [
       "   index    id  host_has_profile_pic  host_since    neighbourhood_cleansed  \\\n",
       "0      0  2015                     1  2008-08-18           Brunnenstr. Süd   \n",
       "1      1  2695                     1  2008-09-16  Prenzlauer Berg Nordwest   \n",
       "\n",
       "  neighbourhood_group_cleansed  host_is_superhost  \\\n",
       "0                        Mitte                1.0   \n",
       "1                       Pankow                0.0   \n",
       "\n",
       "                                         description   latitude  longitude  \\\n",
       "0  Great location!  30 of 75 sq meters. This wood...  52.534537  13.402557   \n",
       "1  In the summertime we are spending most of our ...  52.548513  13.404553   \n",
       "\n",
       "   is_location_exact property_type        room_type  accommodates  bathrooms  \\\n",
       "0                  0    Guesthouse  Entire home/apt             3        1.0   \n",
       "1                  1     Apartment     Private room             2        1.0   \n",
       "\n",
       "   bedrooms  bed_type                                          amenities  \\\n",
       "0       1.0  Real Bed  {TV,\"Cable TV\",Wifi,Kitchen,Gym,Heating,\"Famil...   \n",
       "1       1.0  Real Bed  {Wifi,Kitchen,Elevator,Heating,Washer,Essentia...   \n",
       "\n",
       "   cleaning_fee  reviews_per_month  number_of_reviews  security_deposit  \\\n",
       "0          30.0               3.76                118             200.0   \n",
       "1           0.0               1.42                  6               0.0   \n",
       "\n",
       "   extra_people  guests_included  minimum_nights  instant_bookable  \\\n",
       "0          28.0                1               4                 0   \n",
       "1           0.0                1               2                 0   \n",
       "\n",
       "   is_business_travel_ready          cancellation_policy  availability_365  \n",
       "0                         0  strict_14_with_grace_period               141  \n",
       "1                         0                     flexible                 0  "
      ]
     },
     "execution_count": 41,
     "metadata": {},
     "output_type": "execute_result"
    }
   ],
   "source": [
    "df.head(2)"
   ]
  },
  {
   "cell_type": "markdown",
   "metadata": {},
   "source": [
    "## Size estimation"
   ]
  },
  {
   "cell_type": "code",
   "execution_count": 42,
   "metadata": {},
   "outputs": [],
   "source": [
    "df['size'] = df['description'].str.extract('(\\d{2,3}\\s?[smSM])', expand=True)\n",
    "df['size'] = df['size'].str.replace(\"\\D\", \"\")\n",
    "df['size'] = df['size'].astype(float)\n"
   ]
  },
  {
   "cell_type": "code",
   "execution_count": 43,
   "metadata": {},
   "outputs": [],
   "source": [
    "sub_df = df[['accommodates', 'bathrooms', 'bedrooms', 'cleaning_fee', \n",
    "                 'security_deposit', 'extra_people', 'guests_included', 'size']]"
   ]
  },
  {
   "cell_type": "code",
   "execution_count": 44,
   "metadata": {},
   "outputs": [],
   "source": [
    "train_data = sub_df[sub_df['size'].notnull()]\n",
    "test_data  = sub_df[sub_df['size'].isnull()]\n",
    "\n",
    "X_train = train_data.drop('size', axis=1)\n",
    "X_test  = test_data.drop('size', axis=1)\n",
    "\n",
    "y_train = train_data['size']"
   ]
  },
  {
   "cell_type": "code",
   "execution_count": 45,
   "metadata": {},
   "outputs": [
    {
     "data": {
      "text/plain": [
       "LinearRegression(copy_X=True, fit_intercept=True, n_jobs=None,\n",
       "         normalize=False)"
      ]
     },
     "execution_count": 45,
     "metadata": {},
     "output_type": "execute_result"
    }
   ],
   "source": [
    "from sklearn.linear_model import LinearRegression\n",
    "linreg = LinearRegression()\n",
    "linreg.fit(X_train, y_train)"
   ]
  },
  {
   "cell_type": "code",
   "execution_count": 46,
   "metadata": {},
   "outputs": [],
   "source": [
    "y_test = linreg.predict(X_test)"
   ]
  },
  {
   "cell_type": "code",
   "execution_count": 47,
   "metadata": {},
   "outputs": [
    {
     "data": {
      "text/plain": [
       "(13096.0716179402, 0.027247629309170796)"
      ]
     },
     "execution_count": 47,
     "metadata": {},
     "output_type": "execute_result"
    }
   ],
   "source": [
    "mse(y_train,linreg.predict(X_train)),r2_score(y_train,linreg.predict(X_train))\n"
   ]
  },
  {
   "cell_type": "code",
   "execution_count": 48,
   "metadata": {},
   "outputs": [],
   "source": [
    "y_test = pd.DataFrame(y_test)\n",
    "y_test.columns = ['size']"
   ]
  },
  {
   "cell_type": "code",
   "execution_count": 49,
   "metadata": {},
   "outputs": [],
   "source": [
    "prelim_index = pd.DataFrame(X_test.index)\n",
    "prelim_index.columns = ['prelim']\n",
    "\n",
    "y_test = pd.concat([y_test, prelim_index], axis=1)\n",
    "y_test.set_index(['prelim'], inplace=True)\n"
   ]
  },
  {
   "cell_type": "code",
   "execution_count": 50,
   "metadata": {},
   "outputs": [],
   "source": [
    "new_test_data = pd.concat([X_test, y_test], axis=1)\n",
    "sub_df_new = pd.concat([new_test_data, train_data], axis=0)\n",
    "df = pd.concat([sub_df_new, df], axis=1)"
   ]
  },
  {
   "cell_type": "code",
   "execution_count": 51,
   "metadata": {},
   "outputs": [
    {
     "data": {
      "text/plain": [
       "Index(['accommodates', 'bathrooms', 'bedrooms', 'cleaning_fee',\n",
       "       'security_deposit', 'extra_people', 'guests_included', 'size'],\n",
       "      dtype='object')"
      ]
     },
     "execution_count": 51,
     "metadata": {},
     "output_type": "execute_result"
    }
   ],
   "source": [
    "sub_df_new.columns"
   ]
  },
  {
   "cell_type": "code",
   "execution_count": 52,
   "metadata": {},
   "outputs": [],
   "source": [
    "df.drop(['size'],axis=1,inplace=True)"
   ]
  },
  {
   "cell_type": "code",
   "execution_count": 53,
   "metadata": {},
   "outputs": [
    {
     "data": {
      "text/html": [
       "<div>\n",
       "<style scoped>\n",
       "    .dataframe tbody tr th:only-of-type {\n",
       "        vertical-align: middle;\n",
       "    }\n",
       "\n",
       "    .dataframe tbody tr th {\n",
       "        vertical-align: top;\n",
       "    }\n",
       "\n",
       "    .dataframe thead th {\n",
       "        text-align: right;\n",
       "    }\n",
       "</style>\n",
       "<table border=\"1\" class=\"dataframe\">\n",
       "  <thead>\n",
       "    <tr style=\"text-align: right;\">\n",
       "      <th></th>\n",
       "      <th>accommodates</th>\n",
       "      <th>bathrooms</th>\n",
       "      <th>bedrooms</th>\n",
       "      <th>cleaning_fee</th>\n",
       "      <th>security_deposit</th>\n",
       "      <th>extra_people</th>\n",
       "      <th>guests_included</th>\n",
       "      <th>index</th>\n",
       "      <th>id</th>\n",
       "      <th>host_has_profile_pic</th>\n",
       "      <th>host_since</th>\n",
       "      <th>neighbourhood_cleansed</th>\n",
       "      <th>neighbourhood_group_cleansed</th>\n",
       "      <th>host_is_superhost</th>\n",
       "      <th>description</th>\n",
       "      <th>latitude</th>\n",
       "      <th>longitude</th>\n",
       "      <th>is_location_exact</th>\n",
       "      <th>property_type</th>\n",
       "      <th>room_type</th>\n",
       "      <th>accommodates</th>\n",
       "      <th>bathrooms</th>\n",
       "      <th>bedrooms</th>\n",
       "      <th>bed_type</th>\n",
       "      <th>amenities</th>\n",
       "      <th>cleaning_fee</th>\n",
       "      <th>reviews_per_month</th>\n",
       "      <th>number_of_reviews</th>\n",
       "      <th>security_deposit</th>\n",
       "      <th>extra_people</th>\n",
       "      <th>guests_included</th>\n",
       "      <th>minimum_nights</th>\n",
       "      <th>instant_bookable</th>\n",
       "      <th>is_business_travel_ready</th>\n",
       "      <th>cancellation_policy</th>\n",
       "      <th>availability_365</th>\n",
       "    </tr>\n",
       "  </thead>\n",
       "  <tbody>\n",
       "    <tr>\n",
       "      <th>0</th>\n",
       "      <td>3</td>\n",
       "      <td>1.0</td>\n",
       "      <td>1.0</td>\n",
       "      <td>30.0</td>\n",
       "      <td>200.0</td>\n",
       "      <td>28.0</td>\n",
       "      <td>1</td>\n",
       "      <td>0</td>\n",
       "      <td>2015</td>\n",
       "      <td>1</td>\n",
       "      <td>2008-08-18</td>\n",
       "      <td>Brunnenstr. Süd</td>\n",
       "      <td>Mitte</td>\n",
       "      <td>1.0</td>\n",
       "      <td>Great location!  30 of 75 sq meters. This wood...</td>\n",
       "      <td>52.534537</td>\n",
       "      <td>13.402557</td>\n",
       "      <td>0</td>\n",
       "      <td>Guesthouse</td>\n",
       "      <td>Entire home/apt</td>\n",
       "      <td>3</td>\n",
       "      <td>1.0</td>\n",
       "      <td>1.0</td>\n",
       "      <td>Real Bed</td>\n",
       "      <td>{TV,\"Cable TV\",Wifi,Kitchen,Gym,Heating,\"Famil...</td>\n",
       "      <td>30.0</td>\n",
       "      <td>3.76</td>\n",
       "      <td>118</td>\n",
       "      <td>200.0</td>\n",
       "      <td>28.0</td>\n",
       "      <td>1</td>\n",
       "      <td>4</td>\n",
       "      <td>0</td>\n",
       "      <td>0</td>\n",
       "      <td>strict_14_with_grace_period</td>\n",
       "      <td>141</td>\n",
       "    </tr>\n",
       "    <tr>\n",
       "      <th>1</th>\n",
       "      <td>2</td>\n",
       "      <td>1.0</td>\n",
       "      <td>1.0</td>\n",
       "      <td>0.0</td>\n",
       "      <td>0.0</td>\n",
       "      <td>0.0</td>\n",
       "      <td>1</td>\n",
       "      <td>1</td>\n",
       "      <td>2695</td>\n",
       "      <td>1</td>\n",
       "      <td>2008-09-16</td>\n",
       "      <td>Prenzlauer Berg Nordwest</td>\n",
       "      <td>Pankow</td>\n",
       "      <td>0.0</td>\n",
       "      <td>In the summertime we are spending most of our ...</td>\n",
       "      <td>52.548513</td>\n",
       "      <td>13.404553</td>\n",
       "      <td>1</td>\n",
       "      <td>Apartment</td>\n",
       "      <td>Private room</td>\n",
       "      <td>2</td>\n",
       "      <td>1.0</td>\n",
       "      <td>1.0</td>\n",
       "      <td>Real Bed</td>\n",
       "      <td>{Wifi,Kitchen,Elevator,Heating,Washer,Essentia...</td>\n",
       "      <td>0.0</td>\n",
       "      <td>1.42</td>\n",
       "      <td>6</td>\n",
       "      <td>0.0</td>\n",
       "      <td>0.0</td>\n",
       "      <td>1</td>\n",
       "      <td>2</td>\n",
       "      <td>0</td>\n",
       "      <td>0</td>\n",
       "      <td>flexible</td>\n",
       "      <td>0</td>\n",
       "    </tr>\n",
       "    <tr>\n",
       "      <th>2</th>\n",
       "      <td>4</td>\n",
       "      <td>1.0</td>\n",
       "      <td>1.0</td>\n",
       "      <td>50.0</td>\n",
       "      <td>200.0</td>\n",
       "      <td>20.0</td>\n",
       "      <td>2</td>\n",
       "      <td>2</td>\n",
       "      <td>3176</td>\n",
       "      <td>1</td>\n",
       "      <td>2008-10-19</td>\n",
       "      <td>Prenzlauer Berg Südwest</td>\n",
       "      <td>Pankow</td>\n",
       "      <td>0.0</td>\n",
       "      <td>This beautiful first floor apartment  is situa...</td>\n",
       "      <td>52.534996</td>\n",
       "      <td>13.417579</td>\n",
       "      <td>1</td>\n",
       "      <td>Apartment</td>\n",
       "      <td>Entire home/apt</td>\n",
       "      <td>4</td>\n",
       "      <td>1.0</td>\n",
       "      <td>1.0</td>\n",
       "      <td>Real Bed</td>\n",
       "      <td>{Internet,Wifi,Kitchen,\"Buzzer/wireless interc...</td>\n",
       "      <td>50.0</td>\n",
       "      <td>1.25</td>\n",
       "      <td>143</td>\n",
       "      <td>200.0</td>\n",
       "      <td>20.0</td>\n",
       "      <td>2</td>\n",
       "      <td>62</td>\n",
       "      <td>1</td>\n",
       "      <td>0</td>\n",
       "      <td>strict_14_with_grace_period</td>\n",
       "      <td>220</td>\n",
       "    </tr>\n",
       "  </tbody>\n",
       "</table>\n",
       "</div>"
      ],
      "text/plain": [
       "   accommodates  bathrooms  bedrooms  cleaning_fee  security_deposit  \\\n",
       "0             3        1.0       1.0          30.0             200.0   \n",
       "1             2        1.0       1.0           0.0               0.0   \n",
       "2             4        1.0       1.0          50.0             200.0   \n",
       "\n",
       "   extra_people  guests_included  index    id  host_has_profile_pic  \\\n",
       "0          28.0                1      0  2015                     1   \n",
       "1           0.0                1      1  2695                     1   \n",
       "2          20.0                2      2  3176                     1   \n",
       "\n",
       "   host_since    neighbourhood_cleansed neighbourhood_group_cleansed  \\\n",
       "0  2008-08-18           Brunnenstr. Süd                        Mitte   \n",
       "1  2008-09-16  Prenzlauer Berg Nordwest                       Pankow   \n",
       "2  2008-10-19   Prenzlauer Berg Südwest                       Pankow   \n",
       "\n",
       "   host_is_superhost                                        description  \\\n",
       "0                1.0  Great location!  30 of 75 sq meters. This wood...   \n",
       "1                0.0  In the summertime we are spending most of our ...   \n",
       "2                0.0  This beautiful first floor apartment  is situa...   \n",
       "\n",
       "    latitude  longitude  is_location_exact property_type        room_type  \\\n",
       "0  52.534537  13.402557                  0    Guesthouse  Entire home/apt   \n",
       "1  52.548513  13.404553                  1     Apartment     Private room   \n",
       "2  52.534996  13.417579                  1     Apartment  Entire home/apt   \n",
       "\n",
       "   accommodates  bathrooms  bedrooms  bed_type  \\\n",
       "0             3        1.0       1.0  Real Bed   \n",
       "1             2        1.0       1.0  Real Bed   \n",
       "2             4        1.0       1.0  Real Bed   \n",
       "\n",
       "                                           amenities  cleaning_fee  \\\n",
       "0  {TV,\"Cable TV\",Wifi,Kitchen,Gym,Heating,\"Famil...          30.0   \n",
       "1  {Wifi,Kitchen,Elevator,Heating,Washer,Essentia...           0.0   \n",
       "2  {Internet,Wifi,Kitchen,\"Buzzer/wireless interc...          50.0   \n",
       "\n",
       "   reviews_per_month  number_of_reviews  security_deposit  extra_people  \\\n",
       "0               3.76                118             200.0          28.0   \n",
       "1               1.42                  6               0.0           0.0   \n",
       "2               1.25                143             200.0          20.0   \n",
       "\n",
       "   guests_included  minimum_nights  instant_bookable  \\\n",
       "0                1               4                 0   \n",
       "1                1               2                 0   \n",
       "2                2              62                 1   \n",
       "\n",
       "   is_business_travel_ready          cancellation_policy  availability_365  \n",
       "0                         0  strict_14_with_grace_period               141  \n",
       "1                         0                     flexible                 0  \n",
       "2                         0  strict_14_with_grace_period               220  "
      ]
     },
     "execution_count": 53,
     "metadata": {},
     "output_type": "execute_result"
    }
   ],
   "source": [
    "df.head(3)"
   ]
  },
  {
   "cell_type": "code",
   "execution_count": 54,
   "metadata": {},
   "outputs": [],
   "source": [
    "dropped = ['index','id','description']\n",
    "df.drop(dropped,axis=1,inplace=True)"
   ]
  },
  {
   "cell_type": "markdown",
   "metadata": {},
   "source": [
    "# Data processing"
   ]
  },
  {
   "cell_type": "code",
   "execution_count": 55,
   "metadata": {},
   "outputs": [
    {
     "name": "stderr",
     "output_type": "stream",
     "text": [
      "100%|██████████| 22518/22518 [05:20<00:00, 66.64it/s]\n"
     ]
    }
   ],
   "source": [
    "for i in tqdm(range(len(df))):\n",
    "    df.loc[i,'No_of_amentities'] = len(df.loc[i,'amenities'].split(','))"
   ]
  },
  {
   "cell_type": "code",
   "execution_count": 56,
   "metadata": {},
   "outputs": [],
   "source": [
    "df['Laptop_friendly_workspace'] = df['amenities'].str.contains('Laptop friendly workspace')\n",
    "df['TV'] = df['amenities'].str.contains('TV')\n",
    "df['Family_kid_friendly'] = df['amenities'].str.contains('Family/kid friendly')\n",
    "df['Host_greets_you'] = df['amenities'].str.contains('Host greets you')\n",
    "df['Smoking_allowed'] = df['amenities'].str.contains('Smoking allowed')\n",
    "df['Hot_water'] = df['amenities'].str.contains('Hot water')\n",
    "df['Fridge'] = df['amenities'].str.contains('Refrigerator')\n"
   ]
  },
  {
   "cell_type": "code",
   "execution_count": 57,
   "metadata": {},
   "outputs": [
    {
     "data": {
      "text/html": [
       "<div>\n",
       "<style scoped>\n",
       "    .dataframe tbody tr th:only-of-type {\n",
       "        vertical-align: middle;\n",
       "    }\n",
       "\n",
       "    .dataframe tbody tr th {\n",
       "        vertical-align: top;\n",
       "    }\n",
       "\n",
       "    .dataframe thead th {\n",
       "        text-align: right;\n",
       "    }\n",
       "</style>\n",
       "<table border=\"1\" class=\"dataframe\">\n",
       "  <thead>\n",
       "    <tr style=\"text-align: right;\">\n",
       "      <th></th>\n",
       "      <th>accommodates</th>\n",
       "      <th>bathrooms</th>\n",
       "      <th>bedrooms</th>\n",
       "      <th>cleaning_fee</th>\n",
       "      <th>security_deposit</th>\n",
       "      <th>extra_people</th>\n",
       "      <th>guests_included</th>\n",
       "      <th>host_has_profile_pic</th>\n",
       "      <th>host_since</th>\n",
       "      <th>neighbourhood_cleansed</th>\n",
       "      <th>neighbourhood_group_cleansed</th>\n",
       "      <th>host_is_superhost</th>\n",
       "      <th>latitude</th>\n",
       "      <th>longitude</th>\n",
       "      <th>is_location_exact</th>\n",
       "      <th>property_type</th>\n",
       "      <th>room_type</th>\n",
       "      <th>accommodates</th>\n",
       "      <th>bathrooms</th>\n",
       "      <th>bedrooms</th>\n",
       "      <th>bed_type</th>\n",
       "      <th>amenities</th>\n",
       "      <th>cleaning_fee</th>\n",
       "      <th>reviews_per_month</th>\n",
       "      <th>number_of_reviews</th>\n",
       "      <th>security_deposit</th>\n",
       "      <th>extra_people</th>\n",
       "      <th>guests_included</th>\n",
       "      <th>minimum_nights</th>\n",
       "      <th>instant_bookable</th>\n",
       "      <th>is_business_travel_ready</th>\n",
       "      <th>cancellation_policy</th>\n",
       "      <th>availability_365</th>\n",
       "      <th>No_of_amentities</th>\n",
       "      <th>Laptop_friendly_workspace</th>\n",
       "      <th>TV</th>\n",
       "      <th>Family_kid_friendly</th>\n",
       "      <th>Host_greets_you</th>\n",
       "      <th>Smoking_allowed</th>\n",
       "      <th>Hot_water</th>\n",
       "      <th>Fridge</th>\n",
       "    </tr>\n",
       "  </thead>\n",
       "  <tbody>\n",
       "    <tr>\n",
       "      <th>0</th>\n",
       "      <td>3</td>\n",
       "      <td>1.0</td>\n",
       "      <td>1.0</td>\n",
       "      <td>30.0</td>\n",
       "      <td>200.0</td>\n",
       "      <td>28.0</td>\n",
       "      <td>1</td>\n",
       "      <td>1</td>\n",
       "      <td>2008-08-18</td>\n",
       "      <td>Brunnenstr. Süd</td>\n",
       "      <td>Mitte</td>\n",
       "      <td>1.0</td>\n",
       "      <td>52.534537</td>\n",
       "      <td>13.402557</td>\n",
       "      <td>0</td>\n",
       "      <td>Guesthouse</td>\n",
       "      <td>Entire home/apt</td>\n",
       "      <td>3</td>\n",
       "      <td>1.0</td>\n",
       "      <td>1.0</td>\n",
       "      <td>Real Bed</td>\n",
       "      <td>{TV,\"Cable TV\",Wifi,Kitchen,Gym,Heating,\"Famil...</td>\n",
       "      <td>30.0</td>\n",
       "      <td>3.76</td>\n",
       "      <td>118</td>\n",
       "      <td>200.0</td>\n",
       "      <td>28.0</td>\n",
       "      <td>1</td>\n",
       "      <td>4</td>\n",
       "      <td>0</td>\n",
       "      <td>0</td>\n",
       "      <td>strict_14_with_grace_period</td>\n",
       "      <td>141</td>\n",
       "      <td>29.0</td>\n",
       "      <td>True</td>\n",
       "      <td>True</td>\n",
       "      <td>True</td>\n",
       "      <td>False</td>\n",
       "      <td>False</td>\n",
       "      <td>True</td>\n",
       "      <td>True</td>\n",
       "    </tr>\n",
       "    <tr>\n",
       "      <th>1</th>\n",
       "      <td>2</td>\n",
       "      <td>1.0</td>\n",
       "      <td>1.0</td>\n",
       "      <td>0.0</td>\n",
       "      <td>0.0</td>\n",
       "      <td>0.0</td>\n",
       "      <td>1</td>\n",
       "      <td>1</td>\n",
       "      <td>2008-09-16</td>\n",
       "      <td>Prenzlauer Berg Nordwest</td>\n",
       "      <td>Pankow</td>\n",
       "      <td>0.0</td>\n",
       "      <td>52.548513</td>\n",
       "      <td>13.404553</td>\n",
       "      <td>1</td>\n",
       "      <td>Apartment</td>\n",
       "      <td>Private room</td>\n",
       "      <td>2</td>\n",
       "      <td>1.0</td>\n",
       "      <td>1.0</td>\n",
       "      <td>Real Bed</td>\n",
       "      <td>{Wifi,Kitchen,Elevator,Heating,Washer,Essentia...</td>\n",
       "      <td>0.0</td>\n",
       "      <td>1.42</td>\n",
       "      <td>6</td>\n",
       "      <td>0.0</td>\n",
       "      <td>0.0</td>\n",
       "      <td>1</td>\n",
       "      <td>2</td>\n",
       "      <td>0</td>\n",
       "      <td>0</td>\n",
       "      <td>flexible</td>\n",
       "      <td>0</td>\n",
       "      <td>10.0</td>\n",
       "      <td>True</td>\n",
       "      <td>False</td>\n",
       "      <td>False</td>\n",
       "      <td>False</td>\n",
       "      <td>False</td>\n",
       "      <td>False</td>\n",
       "      <td>False</td>\n",
       "    </tr>\n",
       "  </tbody>\n",
       "</table>\n",
       "</div>"
      ],
      "text/plain": [
       "   accommodates  bathrooms  bedrooms  cleaning_fee  security_deposit  \\\n",
       "0             3        1.0       1.0          30.0             200.0   \n",
       "1             2        1.0       1.0           0.0               0.0   \n",
       "\n",
       "   extra_people  guests_included  host_has_profile_pic  host_since  \\\n",
       "0          28.0                1                     1  2008-08-18   \n",
       "1           0.0                1                     1  2008-09-16   \n",
       "\n",
       "     neighbourhood_cleansed neighbourhood_group_cleansed  host_is_superhost  \\\n",
       "0           Brunnenstr. Süd                        Mitte                1.0   \n",
       "1  Prenzlauer Berg Nordwest                       Pankow                0.0   \n",
       "\n",
       "    latitude  longitude  is_location_exact property_type        room_type  \\\n",
       "0  52.534537  13.402557                  0    Guesthouse  Entire home/apt   \n",
       "1  52.548513  13.404553                  1     Apartment     Private room   \n",
       "\n",
       "   accommodates  bathrooms  bedrooms  bed_type  \\\n",
       "0             3        1.0       1.0  Real Bed   \n",
       "1             2        1.0       1.0  Real Bed   \n",
       "\n",
       "                                           amenities  cleaning_fee  \\\n",
       "0  {TV,\"Cable TV\",Wifi,Kitchen,Gym,Heating,\"Famil...          30.0   \n",
       "1  {Wifi,Kitchen,Elevator,Heating,Washer,Essentia...           0.0   \n",
       "\n",
       "   reviews_per_month  number_of_reviews  security_deposit  extra_people  \\\n",
       "0               3.76                118             200.0          28.0   \n",
       "1               1.42                  6               0.0           0.0   \n",
       "\n",
       "   guests_included  minimum_nights  instant_bookable  \\\n",
       "0                1               4                 0   \n",
       "1                1               2                 0   \n",
       "\n",
       "   is_business_travel_ready          cancellation_policy  availability_365  \\\n",
       "0                         0  strict_14_with_grace_period               141   \n",
       "1                         0                     flexible                 0   \n",
       "\n",
       "   No_of_amentities  Laptop_friendly_workspace     TV  Family_kid_friendly  \\\n",
       "0              29.0                       True   True                 True   \n",
       "1              10.0                       True  False                False   \n",
       "\n",
       "   Host_greets_you  Smoking_allowed  Hot_water  Fridge  \n",
       "0            False            False       True    True  \n",
       "1            False            False      False   False  "
      ]
     },
     "execution_count": 57,
     "metadata": {},
     "output_type": "execute_result"
    }
   ],
   "source": [
    "df.head(2)"
   ]
  },
  {
   "cell_type": "code",
   "execution_count": 58,
   "metadata": {},
   "outputs": [],
   "source": [
    "dropped = ['amenities']\n",
    "df.drop(dropped,axis=1,inplace=True)"
   ]
  },
  {
   "cell_type": "code",
   "execution_count": 59,
   "metadata": {},
   "outputs": [],
   "source": [
    "category = ['neighbourhood_cleansed','neighbourhood_group_cleansed','property_type','room_type',\n",
    "           'bed_type','cancellation_policy']\n",
    "\n",
    "for i in category:\n",
    "    df[i] = df[i].astype('category')\n",
    "    \n",
    "df[\"neighbourhood_cleansed\"] = df[\"neighbourhood_cleansed\"].astype('category')\n",
    "df[\"neighbourhood_group_cleansed\"] = df[\"neighbourhood_group_cleansed\"].astype('category')\n",
    "df[\"room_type\"] = df[\"room_type\"].astype('category')\n"
   ]
  },
  {
   "cell_type": "code",
   "execution_count": null,
   "metadata": {},
   "outputs": [],
   "source": [
    "# for i in category:\n",
    "#     df[i] = df[i].cat.codes\n",
    "\n",
    "# # df['room_type'] = df['room_type'].cat.codes\n",
    "# # df['neighbourhood'] = df['neighbourhood'].cat.codes\n",
    "# # df['neighbourhood_group'] = df['neighbourhood_group'].cat.codes"
   ]
  },
  {
   "cell_type": "markdown",
   "metadata": {},
   "source": [
    "# Feature Engineering"
   ]
  },
  {
   "cell_type": "markdown",
   "metadata": {},
   "source": [
    "### Duration"
   ]
  },
  {
   "cell_type": "code",
   "execution_count": 60,
   "metadata": {},
   "outputs": [],
   "source": [
    "from dateutil import parser\n",
    "\n",
    "def diff_date(row):\n",
    "    today = parser.parse('2018-11-7')\n",
    "    return ((today - parser.parse(row['host_since'])).days)/365.25\n"
   ]
  },
  {
   "cell_type": "code",
   "execution_count": 61,
   "metadata": {},
   "outputs": [
    {
     "data": {
      "text/plain": [
       "count    22518.000000\n",
       "mean         3.686432\n",
       "std          1.909644\n",
       "min          0.002738\n",
       "25%          2.335387\n",
       "50%          3.529090\n",
       "75%          5.059548\n",
       "max         10.220397\n",
       "Name: host_since, dtype: float64"
      ]
     },
     "execution_count": 61,
     "metadata": {},
     "output_type": "execute_result"
    }
   ],
   "source": [
    "df['host_since'] = df.apply(diff_date,axis=1)\n",
    "df['host_since'].describe()"
   ]
  },
  {
   "cell_type": "markdown",
   "metadata": {},
   "source": [
    "### Distances"
   ]
  },
  {
   "cell_type": "code",
   "execution_count": 62,
   "metadata": {},
   "outputs": [],
   "source": [
    "from math import sin, cos, sqrt, atan2, radians\n",
    "def haversine_distance_central(row):\n",
    "    berlin_lat,berlin_long = radians(52.5200), radians(13.4050)\n",
    "    R = 6373.0\n",
    "    long = radians(row['longitude'])\n",
    "    lat = radians(row['latitude'])\n",
    "    \n",
    "    dlon = long - berlin_long\n",
    "    dlat = lat - berlin_lat\n",
    "    a = sin(dlat / 2)**2 + cos(lat) * cos(berlin_lat) * sin(dlon / 2)**2\n",
    "    c = 2 * atan2(sqrt(a), sqrt(1 - a))\n",
    "    return R * c"
   ]
  },
  {
   "cell_type": "code",
   "execution_count": 63,
   "metadata": {},
   "outputs": [],
   "source": [
    "def haversine_distance_airport(row):\n",
    "    berlin_lat,berlin_long = radians(52.3733), radians(13.5064)\n",
    "    R = 6373.0\n",
    "    long = radians(row['longitude'])\n",
    "    lat = radians(row['latitude'])\n",
    "    \n",
    "    dlon = long - berlin_long\n",
    "    dlat = lat - berlin_lat\n",
    "    a = sin(dlat / 2)**2 + cos(lat) * cos(berlin_lat) * sin(dlon / 2)**2\n",
    "    c = 2 * atan2(sqrt(a), sqrt(1 - a))\n",
    "    return R * c"
   ]
  },
  {
   "cell_type": "code",
   "execution_count": 64,
   "metadata": {},
   "outputs": [],
   "source": [
    "def haversine_distance_rail(row):\n",
    "    berlin_lat,berlin_long = radians(52.5073), radians(13.3324)\n",
    "    R = 6373.0\n",
    "    long = radians(row['longitude'])\n",
    "    lat = radians(row['latitude'])\n",
    "    \n",
    "    dlon = long - berlin_long\n",
    "    dlat = lat - berlin_lat\n",
    "    a = sin(dlat / 2)**2 + cos(lat) * cos(berlin_lat) * sin(dlon / 2)**2\n",
    "    c = 2 * atan2(sqrt(a), sqrt(1 - a))\n",
    "    return R * c"
   ]
  },
  {
   "cell_type": "code",
   "execution_count": 65,
   "metadata": {},
   "outputs": [],
   "source": [
    "df['distance_central'] = df.apply(haversine_distance_central,axis=1)\n",
    "df['distance_airport'] = df.apply(haversine_distance_airport,axis=1)\n",
    "df['distance_railways'] = df.apply(haversine_distance_airport,axis=1)\n",
    "df['distance_avg'] = ( df['distance_central'] + df['distance_airport'] + df['distance_railways'] )/3.0"
   ]
  },
  {
   "cell_type": "code",
   "execution_count": 66,
   "metadata": {},
   "outputs": [
    {
     "data": {
      "text/plain": [
       "count    22518.000000\n",
       "mean        12.906814\n",
       "std          2.477341\n",
       "min          7.061769\n",
       "25%         10.997052\n",
       "50%         12.419055\n",
       "75%         14.433595\n",
       "max         28.173038\n",
       "Name: distance_avg, dtype: float64"
      ]
     },
     "execution_count": 66,
     "metadata": {},
     "output_type": "execute_result"
    }
   ],
   "source": [
    "df['distance_avg'].describe()"
   ]
  },
  {
   "cell_type": "code",
   "execution_count": 67,
   "metadata": {},
   "outputs": [
    {
     "data": {
      "text/html": [
       "<div>\n",
       "<style scoped>\n",
       "    .dataframe tbody tr th:only-of-type {\n",
       "        vertical-align: middle;\n",
       "    }\n",
       "\n",
       "    .dataframe tbody tr th {\n",
       "        vertical-align: top;\n",
       "    }\n",
       "\n",
       "    .dataframe thead th {\n",
       "        text-align: right;\n",
       "    }\n",
       "</style>\n",
       "<table border=\"1\" class=\"dataframe\">\n",
       "  <thead>\n",
       "    <tr style=\"text-align: right;\">\n",
       "      <th></th>\n",
       "      <th>accommodates</th>\n",
       "      <th>bathrooms</th>\n",
       "      <th>bedrooms</th>\n",
       "      <th>cleaning_fee</th>\n",
       "      <th>security_deposit</th>\n",
       "      <th>extra_people</th>\n",
       "      <th>guests_included</th>\n",
       "      <th>host_has_profile_pic</th>\n",
       "      <th>host_since</th>\n",
       "      <th>neighbourhood_cleansed</th>\n",
       "      <th>neighbourhood_group_cleansed</th>\n",
       "      <th>host_is_superhost</th>\n",
       "      <th>latitude</th>\n",
       "      <th>longitude</th>\n",
       "      <th>is_location_exact</th>\n",
       "      <th>property_type</th>\n",
       "      <th>room_type</th>\n",
       "      <th>accommodates</th>\n",
       "      <th>bathrooms</th>\n",
       "      <th>bedrooms</th>\n",
       "      <th>bed_type</th>\n",
       "      <th>cleaning_fee</th>\n",
       "      <th>reviews_per_month</th>\n",
       "      <th>number_of_reviews</th>\n",
       "      <th>security_deposit</th>\n",
       "      <th>extra_people</th>\n",
       "      <th>guests_included</th>\n",
       "      <th>minimum_nights</th>\n",
       "      <th>instant_bookable</th>\n",
       "      <th>is_business_travel_ready</th>\n",
       "      <th>cancellation_policy</th>\n",
       "      <th>availability_365</th>\n",
       "      <th>No_of_amentities</th>\n",
       "      <th>Laptop_friendly_workspace</th>\n",
       "      <th>TV</th>\n",
       "      <th>Family_kid_friendly</th>\n",
       "      <th>Host_greets_you</th>\n",
       "      <th>Smoking_allowed</th>\n",
       "      <th>Hot_water</th>\n",
       "      <th>Fridge</th>\n",
       "      <th>distance_central</th>\n",
       "      <th>distance_airport</th>\n",
       "      <th>distance_railways</th>\n",
       "      <th>distance_avg</th>\n",
       "    </tr>\n",
       "  </thead>\n",
       "  <tbody>\n",
       "    <tr>\n",
       "      <th>0</th>\n",
       "      <td>3</td>\n",
       "      <td>1.0</td>\n",
       "      <td>1.0</td>\n",
       "      <td>30.0</td>\n",
       "      <td>200.0</td>\n",
       "      <td>28.0</td>\n",
       "      <td>1</td>\n",
       "      <td>1</td>\n",
       "      <td>10.220397</td>\n",
       "      <td>Brunnenstr. Süd</td>\n",
       "      <td>Mitte</td>\n",
       "      <td>1.0</td>\n",
       "      <td>52.534537</td>\n",
       "      <td>13.402557</td>\n",
       "      <td>0</td>\n",
       "      <td>Guesthouse</td>\n",
       "      <td>Entire home/apt</td>\n",
       "      <td>3</td>\n",
       "      <td>1.0</td>\n",
       "      <td>1.0</td>\n",
       "      <td>Real Bed</td>\n",
       "      <td>30.0</td>\n",
       "      <td>3.76</td>\n",
       "      <td>118</td>\n",
       "      <td>200.0</td>\n",
       "      <td>28.0</td>\n",
       "      <td>1</td>\n",
       "      <td>4</td>\n",
       "      <td>0</td>\n",
       "      <td>0</td>\n",
       "      <td>strict_14_with_grace_period</td>\n",
       "      <td>141</td>\n",
       "      <td>29.0</td>\n",
       "      <td>True</td>\n",
       "      <td>True</td>\n",
       "      <td>True</td>\n",
       "      <td>False</td>\n",
       "      <td>False</td>\n",
       "      <td>True</td>\n",
       "      <td>True</td>\n",
       "      <td>1.625414</td>\n",
       "      <td>19.266232</td>\n",
       "      <td>19.266232</td>\n",
       "      <td>13.385959</td>\n",
       "    </tr>\n",
       "    <tr>\n",
       "      <th>1</th>\n",
       "      <td>2</td>\n",
       "      <td>1.0</td>\n",
       "      <td>1.0</td>\n",
       "      <td>0.0</td>\n",
       "      <td>0.0</td>\n",
       "      <td>0.0</td>\n",
       "      <td>1</td>\n",
       "      <td>1</td>\n",
       "      <td>10.140999</td>\n",
       "      <td>Prenzlauer Berg Nordwest</td>\n",
       "      <td>Pankow</td>\n",
       "      <td>0.0</td>\n",
       "      <td>52.548513</td>\n",
       "      <td>13.404553</td>\n",
       "      <td>1</td>\n",
       "      <td>Apartment</td>\n",
       "      <td>Private room</td>\n",
       "      <td>2</td>\n",
       "      <td>1.0</td>\n",
       "      <td>1.0</td>\n",
       "      <td>Real Bed</td>\n",
       "      <td>0.0</td>\n",
       "      <td>1.42</td>\n",
       "      <td>6</td>\n",
       "      <td>0.0</td>\n",
       "      <td>0.0</td>\n",
       "      <td>1</td>\n",
       "      <td>2</td>\n",
       "      <td>0</td>\n",
       "      <td>0</td>\n",
       "      <td>flexible</td>\n",
       "      <td>0</td>\n",
       "      <td>10.0</td>\n",
       "      <td>True</td>\n",
       "      <td>False</td>\n",
       "      <td>False</td>\n",
       "      <td>False</td>\n",
       "      <td>False</td>\n",
       "      <td>False</td>\n",
       "      <td>False</td>\n",
       "      <td>3.171617</td>\n",
       "      <td>20.675116</td>\n",
       "      <td>20.675116</td>\n",
       "      <td>14.840616</td>\n",
       "    </tr>\n",
       "    <tr>\n",
       "      <th>2</th>\n",
       "      <td>4</td>\n",
       "      <td>1.0</td>\n",
       "      <td>1.0</td>\n",
       "      <td>50.0</td>\n",
       "      <td>200.0</td>\n",
       "      <td>20.0</td>\n",
       "      <td>2</td>\n",
       "      <td>1</td>\n",
       "      <td>10.050650</td>\n",
       "      <td>Prenzlauer Berg Südwest</td>\n",
       "      <td>Pankow</td>\n",
       "      <td>0.0</td>\n",
       "      <td>52.534996</td>\n",
       "      <td>13.417579</td>\n",
       "      <td>1</td>\n",
       "      <td>Apartment</td>\n",
       "      <td>Entire home/apt</td>\n",
       "      <td>4</td>\n",
       "      <td>1.0</td>\n",
       "      <td>1.0</td>\n",
       "      <td>Real Bed</td>\n",
       "      <td>50.0</td>\n",
       "      <td>1.25</td>\n",
       "      <td>143</td>\n",
       "      <td>200.0</td>\n",
       "      <td>20.0</td>\n",
       "      <td>2</td>\n",
       "      <td>62</td>\n",
       "      <td>1</td>\n",
       "      <td>0</td>\n",
       "      <td>strict_14_with_grace_period</td>\n",
       "      <td>220</td>\n",
       "      <td>19.0</td>\n",
       "      <td>True</td>\n",
       "      <td>False</td>\n",
       "      <td>True</td>\n",
       "      <td>False</td>\n",
       "      <td>False</td>\n",
       "      <td>False</td>\n",
       "      <td>False</td>\n",
       "      <td>1.872657</td>\n",
       "      <td>18.966373</td>\n",
       "      <td>18.966373</td>\n",
       "      <td>13.268467</td>\n",
       "    </tr>\n",
       "    <tr>\n",
       "      <th>3</th>\n",
       "      <td>2</td>\n",
       "      <td>1.0</td>\n",
       "      <td>1.0</td>\n",
       "      <td>30.0</td>\n",
       "      <td>250.0</td>\n",
       "      <td>18.0</td>\n",
       "      <td>1</td>\n",
       "      <td>1</td>\n",
       "      <td>9.998631</td>\n",
       "      <td>Schöneberg-Nord</td>\n",
       "      <td>Tempelhof - Schöneberg</td>\n",
       "      <td>0.0</td>\n",
       "      <td>52.498855</td>\n",
       "      <td>13.349065</td>\n",
       "      <td>1</td>\n",
       "      <td>Apartment</td>\n",
       "      <td>Private room</td>\n",
       "      <td>2</td>\n",
       "      <td>1.0</td>\n",
       "      <td>1.0</td>\n",
       "      <td>Pull-out Sofa</td>\n",
       "      <td>30.0</td>\n",
       "      <td>0.39</td>\n",
       "      <td>25</td>\n",
       "      <td>250.0</td>\n",
       "      <td>18.0</td>\n",
       "      <td>1</td>\n",
       "      <td>5</td>\n",
       "      <td>0</td>\n",
       "      <td>0</td>\n",
       "      <td>strict_14_with_grace_period</td>\n",
       "      <td>297</td>\n",
       "      <td>29.0</td>\n",
       "      <td>True</td>\n",
       "      <td>False</td>\n",
       "      <td>False</td>\n",
       "      <td>True</td>\n",
       "      <td>False</td>\n",
       "      <td>True</td>\n",
       "      <td>False</td>\n",
       "      <td>4.457682</td>\n",
       "      <td>17.574477</td>\n",
       "      <td>17.574477</td>\n",
       "      <td>13.202212</td>\n",
       "    </tr>\n",
       "    <tr>\n",
       "      <th>4</th>\n",
       "      <td>2</td>\n",
       "      <td>1.0</td>\n",
       "      <td>1.0</td>\n",
       "      <td>0.0</td>\n",
       "      <td>0.0</td>\n",
       "      <td>24.0</td>\n",
       "      <td>1</td>\n",
       "      <td>1</td>\n",
       "      <td>9.478439</td>\n",
       "      <td>Helmholtzplatz</td>\n",
       "      <td>Pankow</td>\n",
       "      <td>1.0</td>\n",
       "      <td>52.543157</td>\n",
       "      <td>13.415091</td>\n",
       "      <td>1</td>\n",
       "      <td>Apartment</td>\n",
       "      <td>Private room</td>\n",
       "      <td>2</td>\n",
       "      <td>1.0</td>\n",
       "      <td>1.0</td>\n",
       "      <td>Real Bed</td>\n",
       "      <td>0.0</td>\n",
       "      <td>1.75</td>\n",
       "      <td>197</td>\n",
       "      <td>0.0</td>\n",
       "      <td>24.0</td>\n",
       "      <td>1</td>\n",
       "      <td>2</td>\n",
       "      <td>0</td>\n",
       "      <td>0</td>\n",
       "      <td>moderate</td>\n",
       "      <td>26</td>\n",
       "      <td>13.0</td>\n",
       "      <td>True</td>\n",
       "      <td>False</td>\n",
       "      <td>True</td>\n",
       "      <td>False</td>\n",
       "      <td>False</td>\n",
       "      <td>True</td>\n",
       "      <td>False</td>\n",
       "      <td>2.664743</td>\n",
       "      <td>19.880937</td>\n",
       "      <td>19.880937</td>\n",
       "      <td>14.142206</td>\n",
       "    </tr>\n",
       "  </tbody>\n",
       "</table>\n",
       "</div>"
      ],
      "text/plain": [
       "   accommodates  bathrooms  bedrooms  cleaning_fee  security_deposit  \\\n",
       "0             3        1.0       1.0          30.0             200.0   \n",
       "1             2        1.0       1.0           0.0               0.0   \n",
       "2             4        1.0       1.0          50.0             200.0   \n",
       "3             2        1.0       1.0          30.0             250.0   \n",
       "4             2        1.0       1.0           0.0               0.0   \n",
       "\n",
       "   extra_people  guests_included  host_has_profile_pic  host_since  \\\n",
       "0          28.0                1                     1   10.220397   \n",
       "1           0.0                1                     1   10.140999   \n",
       "2          20.0                2                     1   10.050650   \n",
       "3          18.0                1                     1    9.998631   \n",
       "4          24.0                1                     1    9.478439   \n",
       "\n",
       "     neighbourhood_cleansed neighbourhood_group_cleansed  host_is_superhost  \\\n",
       "0           Brunnenstr. Süd                        Mitte                1.0   \n",
       "1  Prenzlauer Berg Nordwest                       Pankow                0.0   \n",
       "2   Prenzlauer Berg Südwest                       Pankow                0.0   \n",
       "3           Schöneberg-Nord       Tempelhof - Schöneberg                0.0   \n",
       "4            Helmholtzplatz                       Pankow                1.0   \n",
       "\n",
       "    latitude  longitude  is_location_exact property_type        room_type  \\\n",
       "0  52.534537  13.402557                  0    Guesthouse  Entire home/apt   \n",
       "1  52.548513  13.404553                  1     Apartment     Private room   \n",
       "2  52.534996  13.417579                  1     Apartment  Entire home/apt   \n",
       "3  52.498855  13.349065                  1     Apartment     Private room   \n",
       "4  52.543157  13.415091                  1     Apartment     Private room   \n",
       "\n",
       "   accommodates  bathrooms  bedrooms       bed_type  cleaning_fee  \\\n",
       "0             3        1.0       1.0       Real Bed          30.0   \n",
       "1             2        1.0       1.0       Real Bed           0.0   \n",
       "2             4        1.0       1.0       Real Bed          50.0   \n",
       "3             2        1.0       1.0  Pull-out Sofa          30.0   \n",
       "4             2        1.0       1.0       Real Bed           0.0   \n",
       "\n",
       "   reviews_per_month  number_of_reviews  security_deposit  extra_people  \\\n",
       "0               3.76                118             200.0          28.0   \n",
       "1               1.42                  6               0.0           0.0   \n",
       "2               1.25                143             200.0          20.0   \n",
       "3               0.39                 25             250.0          18.0   \n",
       "4               1.75                197               0.0          24.0   \n",
       "\n",
       "   guests_included  minimum_nights  instant_bookable  \\\n",
       "0                1               4                 0   \n",
       "1                1               2                 0   \n",
       "2                2              62                 1   \n",
       "3                1               5                 0   \n",
       "4                1               2                 0   \n",
       "\n",
       "   is_business_travel_ready          cancellation_policy  availability_365  \\\n",
       "0                         0  strict_14_with_grace_period               141   \n",
       "1                         0                     flexible                 0   \n",
       "2                         0  strict_14_with_grace_period               220   \n",
       "3                         0  strict_14_with_grace_period               297   \n",
       "4                         0                     moderate                26   \n",
       "\n",
       "   No_of_amentities  Laptop_friendly_workspace     TV  Family_kid_friendly  \\\n",
       "0              29.0                       True   True                 True   \n",
       "1              10.0                       True  False                False   \n",
       "2              19.0                       True  False                 True   \n",
       "3              29.0                       True  False                False   \n",
       "4              13.0                       True  False                 True   \n",
       "\n",
       "   Host_greets_you  Smoking_allowed  Hot_water  Fridge  distance_central  \\\n",
       "0            False            False       True    True          1.625414   \n",
       "1            False            False      False   False          3.171617   \n",
       "2            False            False      False   False          1.872657   \n",
       "3             True            False       True   False          4.457682   \n",
       "4            False            False       True   False          2.664743   \n",
       "\n",
       "   distance_airport  distance_railways  distance_avg  \n",
       "0         19.266232          19.266232     13.385959  \n",
       "1         20.675116          20.675116     14.840616  \n",
       "2         18.966373          18.966373     13.268467  \n",
       "3         17.574477          17.574477     13.202212  \n",
       "4         19.880937          19.880937     14.142206  "
      ]
     },
     "execution_count": 67,
     "metadata": {},
     "output_type": "execute_result"
    }
   ],
   "source": [
    "df.head()"
   ]
  },
  {
   "cell_type": "code",
   "execution_count": 68,
   "metadata": {},
   "outputs": [
    {
     "name": "stdout",
     "output_type": "stream",
     "text": [
      "bed_type {'Airbed', 'Futon', 'Pull-out Sofa', 'Real Bed', 'Couch'}\n"
     ]
    }
   ],
   "source": [
    "i=20\n",
    "for i in df.columns[i:i+1]:\n",
    "    print(i,set(df[i]))"
   ]
  },
  {
   "cell_type": "code",
   "execution_count": 69,
   "metadata": {},
   "outputs": [],
   "source": [
    "for c in category:\n",
    "    df[c+'_freq'] = df[c].map(df.groupby(c).size() / df.shape[0])\n",
    "    indexer = pd.factorize(df[c], sort=True)[1]\n",
    "    df[c] = indexer.get_indexer(df[c])"
   ]
  },
  {
   "cell_type": "code",
   "execution_count": 70,
   "metadata": {},
   "outputs": [
    {
     "data": {
      "text/html": [
       "<div>\n",
       "<style scoped>\n",
       "    .dataframe tbody tr th:only-of-type {\n",
       "        vertical-align: middle;\n",
       "    }\n",
       "\n",
       "    .dataframe tbody tr th {\n",
       "        vertical-align: top;\n",
       "    }\n",
       "\n",
       "    .dataframe thead th {\n",
       "        text-align: right;\n",
       "    }\n",
       "</style>\n",
       "<table border=\"1\" class=\"dataframe\">\n",
       "  <thead>\n",
       "    <tr style=\"text-align: right;\">\n",
       "      <th></th>\n",
       "      <th>accommodates</th>\n",
       "      <th>bathrooms</th>\n",
       "      <th>bedrooms</th>\n",
       "      <th>cleaning_fee</th>\n",
       "      <th>security_deposit</th>\n",
       "      <th>extra_people</th>\n",
       "      <th>guests_included</th>\n",
       "      <th>host_has_profile_pic</th>\n",
       "      <th>host_since</th>\n",
       "      <th>neighbourhood_cleansed</th>\n",
       "      <th>neighbourhood_group_cleansed</th>\n",
       "      <th>host_is_superhost</th>\n",
       "      <th>latitude</th>\n",
       "      <th>longitude</th>\n",
       "      <th>is_location_exact</th>\n",
       "      <th>property_type</th>\n",
       "      <th>room_type</th>\n",
       "      <th>accommodates</th>\n",
       "      <th>bathrooms</th>\n",
       "      <th>bedrooms</th>\n",
       "      <th>bed_type</th>\n",
       "      <th>cleaning_fee</th>\n",
       "      <th>reviews_per_month</th>\n",
       "      <th>number_of_reviews</th>\n",
       "      <th>security_deposit</th>\n",
       "      <th>extra_people</th>\n",
       "      <th>guests_included</th>\n",
       "      <th>minimum_nights</th>\n",
       "      <th>instant_bookable</th>\n",
       "      <th>is_business_travel_ready</th>\n",
       "      <th>cancellation_policy</th>\n",
       "      <th>availability_365</th>\n",
       "      <th>No_of_amentities</th>\n",
       "      <th>Laptop_friendly_workspace</th>\n",
       "      <th>TV</th>\n",
       "      <th>Family_kid_friendly</th>\n",
       "      <th>Host_greets_you</th>\n",
       "      <th>Smoking_allowed</th>\n",
       "      <th>Hot_water</th>\n",
       "      <th>Fridge</th>\n",
       "      <th>distance_central</th>\n",
       "      <th>distance_airport</th>\n",
       "      <th>distance_railways</th>\n",
       "      <th>distance_avg</th>\n",
       "      <th>neighbourhood_cleansed_freq</th>\n",
       "      <th>neighbourhood_group_cleansed_freq</th>\n",
       "      <th>property_type_freq</th>\n",
       "      <th>room_type_freq</th>\n",
       "      <th>bed_type_freq</th>\n",
       "      <th>cancellation_policy_freq</th>\n",
       "    </tr>\n",
       "  </thead>\n",
       "  <tbody>\n",
       "    <tr>\n",
       "      <th>0</th>\n",
       "      <td>3</td>\n",
       "      <td>1.0</td>\n",
       "      <td>1.0</td>\n",
       "      <td>30.0</td>\n",
       "      <td>200.0</td>\n",
       "      <td>28.0</td>\n",
       "      <td>1</td>\n",
       "      <td>1</td>\n",
       "      <td>10.220397</td>\n",
       "      <td>5</td>\n",
       "      <td>4</td>\n",
       "      <td>1.0</td>\n",
       "      <td>52.534537</td>\n",
       "      <td>13.402557</td>\n",
       "      <td>0</td>\n",
       "      <td>16</td>\n",
       "      <td>0</td>\n",
       "      <td>3</td>\n",
       "      <td>1.0</td>\n",
       "      <td>1.0</td>\n",
       "      <td>4</td>\n",
       "      <td>30.0</td>\n",
       "      <td>3.76</td>\n",
       "      <td>118</td>\n",
       "      <td>200.0</td>\n",
       "      <td>28.0</td>\n",
       "      <td>1</td>\n",
       "      <td>4</td>\n",
       "      <td>0</td>\n",
       "      <td>0</td>\n",
       "      <td>2</td>\n",
       "      <td>141</td>\n",
       "      <td>29.0</td>\n",
       "      <td>True</td>\n",
       "      <td>True</td>\n",
       "      <td>True</td>\n",
       "      <td>False</td>\n",
       "      <td>False</td>\n",
       "      <td>True</td>\n",
       "      <td>True</td>\n",
       "      <td>1.625414</td>\n",
       "      <td>19.266232</td>\n",
       "      <td>19.266232</td>\n",
       "      <td>13.385959</td>\n",
       "      <td>0.034328</td>\n",
       "      <td>0.205347</td>\n",
       "      <td>0.002531</td>\n",
       "      <td>0.475442</td>\n",
       "      <td>0.965183</td>\n",
       "      <td>0.279021</td>\n",
       "    </tr>\n",
       "    <tr>\n",
       "      <th>1</th>\n",
       "      <td>2</td>\n",
       "      <td>1.0</td>\n",
       "      <td>1.0</td>\n",
       "      <td>0.0</td>\n",
       "      <td>0.0</td>\n",
       "      <td>0.0</td>\n",
       "      <td>1</td>\n",
       "      <td>1</td>\n",
       "      <td>10.140999</td>\n",
       "      <td>27</td>\n",
       "      <td>6</td>\n",
       "      <td>0.0</td>\n",
       "      <td>52.548513</td>\n",
       "      <td>13.404553</td>\n",
       "      <td>1</td>\n",
       "      <td>1</td>\n",
       "      <td>1</td>\n",
       "      <td>2</td>\n",
       "      <td>1.0</td>\n",
       "      <td>1.0</td>\n",
       "      <td>4</td>\n",
       "      <td>0.0</td>\n",
       "      <td>1.42</td>\n",
       "      <td>6</td>\n",
       "      <td>0.0</td>\n",
       "      <td>0.0</td>\n",
       "      <td>1</td>\n",
       "      <td>2</td>\n",
       "      <td>0</td>\n",
       "      <td>0</td>\n",
       "      <td>0</td>\n",
       "      <td>0</td>\n",
       "      <td>10.0</td>\n",
       "      <td>True</td>\n",
       "      <td>False</td>\n",
       "      <td>False</td>\n",
       "      <td>False</td>\n",
       "      <td>False</td>\n",
       "      <td>False</td>\n",
       "      <td>False</td>\n",
       "      <td>3.171617</td>\n",
       "      <td>20.675116</td>\n",
       "      <td>20.675116</td>\n",
       "      <td>14.840616</td>\n",
       "      <td>0.027622</td>\n",
       "      <td>0.157119</td>\n",
       "      <td>0.896838</td>\n",
       "      <td>0.511413</td>\n",
       "      <td>0.965183</td>\n",
       "      <td>0.403322</td>\n",
       "    </tr>\n",
       "    <tr>\n",
       "      <th>2</th>\n",
       "      <td>4</td>\n",
       "      <td>1.0</td>\n",
       "      <td>1.0</td>\n",
       "      <td>50.0</td>\n",
       "      <td>200.0</td>\n",
       "      <td>20.0</td>\n",
       "      <td>2</td>\n",
       "      <td>1</td>\n",
       "      <td>10.050650</td>\n",
       "      <td>30</td>\n",
       "      <td>6</td>\n",
       "      <td>0.0</td>\n",
       "      <td>52.534996</td>\n",
       "      <td>13.417579</td>\n",
       "      <td>1</td>\n",
       "      <td>1</td>\n",
       "      <td>0</td>\n",
       "      <td>4</td>\n",
       "      <td>1.0</td>\n",
       "      <td>1.0</td>\n",
       "      <td>4</td>\n",
       "      <td>50.0</td>\n",
       "      <td>1.25</td>\n",
       "      <td>143</td>\n",
       "      <td>200.0</td>\n",
       "      <td>20.0</td>\n",
       "      <td>2</td>\n",
       "      <td>62</td>\n",
       "      <td>1</td>\n",
       "      <td>0</td>\n",
       "      <td>2</td>\n",
       "      <td>220</td>\n",
       "      <td>19.0</td>\n",
       "      <td>True</td>\n",
       "      <td>False</td>\n",
       "      <td>True</td>\n",
       "      <td>False</td>\n",
       "      <td>False</td>\n",
       "      <td>False</td>\n",
       "      <td>False</td>\n",
       "      <td>1.872657</td>\n",
       "      <td>18.966373</td>\n",
       "      <td>18.966373</td>\n",
       "      <td>13.268467</td>\n",
       "      <td>0.027445</td>\n",
       "      <td>0.157119</td>\n",
       "      <td>0.896838</td>\n",
       "      <td>0.475442</td>\n",
       "      <td>0.965183</td>\n",
       "      <td>0.279021</td>\n",
       "    </tr>\n",
       "  </tbody>\n",
       "</table>\n",
       "</div>"
      ],
      "text/plain": [
       "   accommodates  bathrooms  bedrooms  cleaning_fee  security_deposit  \\\n",
       "0             3        1.0       1.0          30.0             200.0   \n",
       "1             2        1.0       1.0           0.0               0.0   \n",
       "2             4        1.0       1.0          50.0             200.0   \n",
       "\n",
       "   extra_people  guests_included  host_has_profile_pic  host_since  \\\n",
       "0          28.0                1                     1   10.220397   \n",
       "1           0.0                1                     1   10.140999   \n",
       "2          20.0                2                     1   10.050650   \n",
       "\n",
       "   neighbourhood_cleansed  neighbourhood_group_cleansed  host_is_superhost  \\\n",
       "0                       5                             4                1.0   \n",
       "1                      27                             6                0.0   \n",
       "2                      30                             6                0.0   \n",
       "\n",
       "    latitude  longitude  is_location_exact  property_type  room_type  \\\n",
       "0  52.534537  13.402557                  0             16          0   \n",
       "1  52.548513  13.404553                  1              1          1   \n",
       "2  52.534996  13.417579                  1              1          0   \n",
       "\n",
       "   accommodates  bathrooms  bedrooms  bed_type  cleaning_fee  \\\n",
       "0             3        1.0       1.0         4          30.0   \n",
       "1             2        1.0       1.0         4           0.0   \n",
       "2             4        1.0       1.0         4          50.0   \n",
       "\n",
       "   reviews_per_month  number_of_reviews  security_deposit  extra_people  \\\n",
       "0               3.76                118             200.0          28.0   \n",
       "1               1.42                  6               0.0           0.0   \n",
       "2               1.25                143             200.0          20.0   \n",
       "\n",
       "   guests_included  minimum_nights  instant_bookable  \\\n",
       "0                1               4                 0   \n",
       "1                1               2                 0   \n",
       "2                2              62                 1   \n",
       "\n",
       "   is_business_travel_ready  cancellation_policy  availability_365  \\\n",
       "0                         0                    2               141   \n",
       "1                         0                    0                 0   \n",
       "2                         0                    2               220   \n",
       "\n",
       "   No_of_amentities  Laptop_friendly_workspace     TV  Family_kid_friendly  \\\n",
       "0              29.0                       True   True                 True   \n",
       "1              10.0                       True  False                False   \n",
       "2              19.0                       True  False                 True   \n",
       "\n",
       "   Host_greets_you  Smoking_allowed  Hot_water  Fridge  distance_central  \\\n",
       "0            False            False       True    True          1.625414   \n",
       "1            False            False      False   False          3.171617   \n",
       "2            False            False      False   False          1.872657   \n",
       "\n",
       "   distance_airport  distance_railways  distance_avg  \\\n",
       "0         19.266232          19.266232     13.385959   \n",
       "1         20.675116          20.675116     14.840616   \n",
       "2         18.966373          18.966373     13.268467   \n",
       "\n",
       "   neighbourhood_cleansed_freq  neighbourhood_group_cleansed_freq  \\\n",
       "0                     0.034328                           0.205347   \n",
       "1                     0.027622                           0.157119   \n",
       "2                     0.027445                           0.157119   \n",
       "\n",
       "   property_type_freq  room_type_freq  bed_type_freq  cancellation_policy_freq  \n",
       "0            0.002531        0.475442       0.965183                  0.279021  \n",
       "1            0.896838        0.511413       0.965183                  0.403322  \n",
       "2            0.896838        0.475442       0.965183                  0.279021  "
      ]
     },
     "execution_count": 70,
     "metadata": {},
     "output_type": "execute_result"
    }
   ],
   "source": [
    "df.head(3)"
   ]
  },
  {
   "cell_type": "code",
   "execution_count": 75,
   "metadata": {},
   "outputs": [
    {
     "data": {
      "text/plain": [
       "accommodates                         0\n",
       "bathrooms                            0\n",
       "bedrooms                             0\n",
       "cleaning_fee                         0\n",
       "security_deposit                     0\n",
       "extra_people                         0\n",
       "guests_included                      0\n",
       "host_has_profile_pic                 0\n",
       "host_since                           0\n",
       "neighbourhood_cleansed               0\n",
       "neighbourhood_group_cleansed         0\n",
       "host_is_superhost                    0\n",
       "latitude                             0\n",
       "longitude                            0\n",
       "is_location_exact                    0\n",
       "property_type                        0\n",
       "room_type                            0\n",
       "accommodates                         0\n",
       "bathrooms                            0\n",
       "bedrooms                             0\n",
       "bed_type                             0\n",
       "cleaning_fee                         0\n",
       "reviews_per_month                    0\n",
       "number_of_reviews                    0\n",
       "security_deposit                     0\n",
       "extra_people                         0\n",
       "guests_included                      0\n",
       "minimum_nights                       0\n",
       "instant_bookable                     0\n",
       "is_business_travel_ready             0\n",
       "cancellation_policy                  0\n",
       "availability_365                     0\n",
       "No_of_amentities                     0\n",
       "Laptop_friendly_workspace            0\n",
       "TV                                   0\n",
       "Family_kid_friendly                  0\n",
       "Host_greets_you                      0\n",
       "Smoking_allowed                      0\n",
       "Hot_water                            0\n",
       "Fridge                               0\n",
       "distance_central                     0\n",
       "distance_airport                     0\n",
       "distance_railways                    0\n",
       "distance_avg                         0\n",
       "neighbourhood_cleansed_freq          0\n",
       "neighbourhood_group_cleansed_freq    0\n",
       "property_type_freq                   0\n",
       "room_type_freq                       0\n",
       "bed_type_freq                        0\n",
       "cancellation_policy_freq             0\n",
       "dtype: int64"
      ]
     },
     "execution_count": 75,
     "metadata": {},
     "output_type": "execute_result"
    }
   ],
   "source": [
    "df.isna().sum()"
   ]
  },
  {
   "cell_type": "code",
   "execution_count": 74,
   "metadata": {},
   "outputs": [],
   "source": [
    "df['reviews_per_month'] = df['reviews_per_month'].fillna(df['reviews_per_month'].median())"
   ]
  },
  {
   "cell_type": "code",
   "execution_count": 76,
   "metadata": {},
   "outputs": [],
   "source": [
    "df.to_csv('X_new.csv',index=False)"
   ]
  },
  {
   "cell_type": "code",
   "execution_count": 78,
   "metadata": {},
   "outputs": [
    {
     "name": "stderr",
     "output_type": "stream",
     "text": [
      "/home/priyanshu/anaconda3/envs/gpu/lib/python3.6/site-packages/ipykernel_launcher.py:1: FutureWarning: The signature of `Series.to_csv` was aligned to that of `DataFrame.to_csv`, and argument 'header' will change its default value from False to True: please pass an explicit value to suppress this warning.\n",
      "  \"\"\"Entry point for launching an IPython kernel.\n"
     ]
    }
   ],
   "source": [
    "y.to_csv('Y_new.csv',index=False)"
   ]
  },
  {
   "cell_type": "code",
   "execution_count": 143,
   "metadata": {},
   "outputs": [
    {
     "data": {
      "text/plain": [
       "security_deposit                     2\n",
       "bathrooms                            2\n",
       "extra_people                         2\n",
       "guests_included                      2\n",
       "bedrooms                             2\n",
       "accommodates                         2\n",
       "cleaning_fee                         2\n",
       "number_of_reviews                    1\n",
       "is_business_travel_ready             1\n",
       "property_type_freq                   1\n",
       "distance_airport                     1\n",
       "availability_365                     1\n",
       "Host_greets_you                      1\n",
       "distance_avg                         1\n",
       "latitude                             1\n",
       "neighbourhood_group_cleansed         1\n",
       "reviews_per_month                    1\n",
       "host_since                           1\n",
       "property_type                        1\n",
       "cancellation_policy                  1\n",
       "TV                                   1\n",
       "Smoking_allowed                      1\n",
       "Family_kid_friendly                  1\n",
       "neighbourhood_cleansed_freq          1\n",
       "bed_type_freq                        1\n",
       "distance_central                     1\n",
       "room_type                            1\n",
       "neighbourhood_group_cleansed_freq    1\n",
       "Laptop_friendly_workspace            1\n",
       "bed_type                             1\n",
       "neighbourhood_cleansed               1\n",
       "host_has_profile_pic                 1\n",
       "longitude                            1\n",
       "No_of_amentities                     1\n",
       "distance_railways                    1\n",
       "cancellation_policy_freq             1\n",
       "host_is_superhost                    1\n",
       "instant_bookable                     1\n",
       "Fridge                               1\n",
       "is_location_exact                    1\n",
       "Hot_water                            1\n",
       "room_type_freq                       1\n",
       "minimum_nights                       1\n",
       "dtype: int64"
      ]
     },
     "execution_count": 143,
     "metadata": {},
     "output_type": "execute_result"
    }
   ],
   "source": [
    "df.columns.value_counts()"
   ]
  },
  {
   "cell_type": "code",
   "execution_count": 142,
   "metadata": {},
   "outputs": [
    {
     "ename": "KeyError",
     "evalue": "\"['security_deposit' 'bathrooms' 'extra_people' 'guests_included'\\n 'bedrooms accommodates' 'cleaning_fee'] not found in axis\"",
     "output_type": "error",
     "traceback": [
      "\u001b[0;31m---------------------------------------------------------------------------\u001b[0m",
      "\u001b[0;31mKeyError\u001b[0m                                  Traceback (most recent call last)",
      "\u001b[0;32m<ipython-input-142-cba1d2115dbb>\u001b[0m in \u001b[0;36m<module>\u001b[0;34m\u001b[0m\n\u001b[1;32m      1\u001b[0m \u001b[0mdropped\u001b[0m \u001b[0;34m=\u001b[0m \u001b[0;34m[\u001b[0m\u001b[0;34m'security_deposit'\u001b[0m\u001b[0;34m,\u001b[0m\u001b[0;34m'bathrooms'\u001b[0m\u001b[0;34m,\u001b[0m\u001b[0;34m'extra_people'\u001b[0m\u001b[0;34m,\u001b[0m\u001b[0;34m'guests_included'\u001b[0m\u001b[0;34m,\u001b[0m\u001b[0;34m'bedrooms accommodates'\u001b[0m\u001b[0;34m,\u001b[0m\u001b[0;34m'cleaning_fee'\u001b[0m\u001b[0;34m]\u001b[0m\u001b[0;34m\u001b[0m\u001b[0;34m\u001b[0m\u001b[0m\n\u001b[0;32m----> 2\u001b[0;31m \u001b[0mdf\u001b[0m\u001b[0;34m.\u001b[0m\u001b[0mdrop\u001b[0m\u001b[0;34m(\u001b[0m\u001b[0mdropped\u001b[0m\u001b[0;34m,\u001b[0m\u001b[0maxis\u001b[0m\u001b[0;34m=\u001b[0m\u001b[0;36m1\u001b[0m\u001b[0;34m,\u001b[0m\u001b[0minplace\u001b[0m\u001b[0;34m=\u001b[0m\u001b[0;32mTrue\u001b[0m\u001b[0;34m)\u001b[0m\u001b[0;34m\u001b[0m\u001b[0;34m\u001b[0m\u001b[0m\n\u001b[0m",
      "\u001b[0;32m~/anaconda3/envs/gpu/lib/python3.6/site-packages/pandas/core/frame.py\u001b[0m in \u001b[0;36mdrop\u001b[0;34m(self, labels, axis, index, columns, level, inplace, errors)\u001b[0m\n\u001b[1;32m   3938\u001b[0m                                            \u001b[0mindex\u001b[0m\u001b[0;34m=\u001b[0m\u001b[0mindex\u001b[0m\u001b[0;34m,\u001b[0m \u001b[0mcolumns\u001b[0m\u001b[0;34m=\u001b[0m\u001b[0mcolumns\u001b[0m\u001b[0;34m,\u001b[0m\u001b[0;34m\u001b[0m\u001b[0;34m\u001b[0m\u001b[0m\n\u001b[1;32m   3939\u001b[0m                                            \u001b[0mlevel\u001b[0m\u001b[0;34m=\u001b[0m\u001b[0mlevel\u001b[0m\u001b[0;34m,\u001b[0m \u001b[0minplace\u001b[0m\u001b[0;34m=\u001b[0m\u001b[0minplace\u001b[0m\u001b[0;34m,\u001b[0m\u001b[0;34m\u001b[0m\u001b[0;34m\u001b[0m\u001b[0m\n\u001b[0;32m-> 3940\u001b[0;31m                                            errors=errors)\n\u001b[0m\u001b[1;32m   3941\u001b[0m \u001b[0;34m\u001b[0m\u001b[0m\n\u001b[1;32m   3942\u001b[0m     @rewrite_axis_style_signature('mapper', [('copy', True),\n",
      "\u001b[0;32m~/anaconda3/envs/gpu/lib/python3.6/site-packages/pandas/core/generic.py\u001b[0m in \u001b[0;36mdrop\u001b[0;34m(self, labels, axis, index, columns, level, inplace, errors)\u001b[0m\n\u001b[1;32m   3778\u001b[0m         \u001b[0;32mfor\u001b[0m \u001b[0maxis\u001b[0m\u001b[0;34m,\u001b[0m \u001b[0mlabels\u001b[0m \u001b[0;32min\u001b[0m \u001b[0maxes\u001b[0m\u001b[0;34m.\u001b[0m\u001b[0mitems\u001b[0m\u001b[0;34m(\u001b[0m\u001b[0;34m)\u001b[0m\u001b[0;34m:\u001b[0m\u001b[0;34m\u001b[0m\u001b[0;34m\u001b[0m\u001b[0m\n\u001b[1;32m   3779\u001b[0m             \u001b[0;32mif\u001b[0m \u001b[0mlabels\u001b[0m \u001b[0;32mis\u001b[0m \u001b[0;32mnot\u001b[0m \u001b[0;32mNone\u001b[0m\u001b[0;34m:\u001b[0m\u001b[0;34m\u001b[0m\u001b[0;34m\u001b[0m\u001b[0m\n\u001b[0;32m-> 3780\u001b[0;31m                 \u001b[0mobj\u001b[0m \u001b[0;34m=\u001b[0m \u001b[0mobj\u001b[0m\u001b[0;34m.\u001b[0m\u001b[0m_drop_axis\u001b[0m\u001b[0;34m(\u001b[0m\u001b[0mlabels\u001b[0m\u001b[0;34m,\u001b[0m \u001b[0maxis\u001b[0m\u001b[0;34m,\u001b[0m \u001b[0mlevel\u001b[0m\u001b[0;34m=\u001b[0m\u001b[0mlevel\u001b[0m\u001b[0;34m,\u001b[0m \u001b[0merrors\u001b[0m\u001b[0;34m=\u001b[0m\u001b[0merrors\u001b[0m\u001b[0;34m)\u001b[0m\u001b[0;34m\u001b[0m\u001b[0;34m\u001b[0m\u001b[0m\n\u001b[0m\u001b[1;32m   3781\u001b[0m \u001b[0;34m\u001b[0m\u001b[0m\n\u001b[1;32m   3782\u001b[0m         \u001b[0;32mif\u001b[0m \u001b[0minplace\u001b[0m\u001b[0;34m:\u001b[0m\u001b[0;34m\u001b[0m\u001b[0;34m\u001b[0m\u001b[0m\n",
      "\u001b[0;32m~/anaconda3/envs/gpu/lib/python3.6/site-packages/pandas/core/generic.py\u001b[0m in \u001b[0;36m_drop_axis\u001b[0;34m(self, labels, axis, level, errors)\u001b[0m\n\u001b[1;32m   3829\u001b[0m                 \u001b[0mlabels_missing\u001b[0m \u001b[0;34m=\u001b[0m \u001b[0;34m(\u001b[0m\u001b[0maxis\u001b[0m\u001b[0;34m.\u001b[0m\u001b[0mget_indexer_for\u001b[0m\u001b[0;34m(\u001b[0m\u001b[0mlabels\u001b[0m\u001b[0;34m)\u001b[0m \u001b[0;34m==\u001b[0m \u001b[0;34m-\u001b[0m\u001b[0;36m1\u001b[0m\u001b[0;34m)\u001b[0m\u001b[0;34m.\u001b[0m\u001b[0many\u001b[0m\u001b[0;34m(\u001b[0m\u001b[0;34m)\u001b[0m\u001b[0;34m\u001b[0m\u001b[0;34m\u001b[0m\u001b[0m\n\u001b[1;32m   3830\u001b[0m                 \u001b[0;32mif\u001b[0m \u001b[0merrors\u001b[0m \u001b[0;34m==\u001b[0m \u001b[0;34m'raise'\u001b[0m \u001b[0;32mand\u001b[0m \u001b[0mlabels_missing\u001b[0m\u001b[0;34m:\u001b[0m\u001b[0;34m\u001b[0m\u001b[0;34m\u001b[0m\u001b[0m\n\u001b[0;32m-> 3831\u001b[0;31m                     \u001b[0;32mraise\u001b[0m \u001b[0mKeyError\u001b[0m\u001b[0;34m(\u001b[0m\u001b[0;34m'{} not found in axis'\u001b[0m\u001b[0;34m.\u001b[0m\u001b[0mformat\u001b[0m\u001b[0;34m(\u001b[0m\u001b[0mlabels\u001b[0m\u001b[0;34m)\u001b[0m\u001b[0;34m)\u001b[0m\u001b[0;34m\u001b[0m\u001b[0;34m\u001b[0m\u001b[0m\n\u001b[0m\u001b[1;32m   3832\u001b[0m \u001b[0;34m\u001b[0m\u001b[0m\n\u001b[1;32m   3833\u001b[0m             \u001b[0mslicer\u001b[0m \u001b[0;34m=\u001b[0m \u001b[0;34m[\u001b[0m\u001b[0mslice\u001b[0m\u001b[0;34m(\u001b[0m\u001b[0;32mNone\u001b[0m\u001b[0;34m)\u001b[0m\u001b[0;34m]\u001b[0m \u001b[0;34m*\u001b[0m \u001b[0mself\u001b[0m\u001b[0;34m.\u001b[0m\u001b[0mndim\u001b[0m\u001b[0;34m\u001b[0m\u001b[0;34m\u001b[0m\u001b[0m\n",
      "\u001b[0;31mKeyError\u001b[0m: \"['security_deposit' 'bathrooms' 'extra_people' 'guests_included'\\n 'bedrooms accommodates' 'cleaning_fee'] not found in axis\""
     ]
    }
   ],
   "source": [
    "dropped = ['security_deposit','bathrooms','extra_people','guests_included','bedrooms accommodates','cleaning_fee']                         \n",
    "df.drop(dropped,axis=1,inplace=True)"
   ]
  },
  {
   "cell_type": "markdown",
   "metadata": {},
   "source": [
    " # Model"
   ]
  },
  {
   "cell_type": "code",
   "execution_count": 122,
   "metadata": {},
   "outputs": [],
   "source": [
    "X_train, X_val , y_train, y_val = train_test_split(df,y,test_size=0.3)"
   ]
  },
  {
   "cell_type": "code",
   "execution_count": 123,
   "metadata": {},
   "outputs": [
    {
     "name": "stderr",
     "output_type": "stream",
     "text": [
      "/home/priyanshu/anaconda3/envs/gpu/lib/python3.6/site-packages/sklearn/preprocessing/data.py:625: DataConversionWarning: Data with input dtype bool, int64, float64 were all converted to float64 by StandardScaler.\n",
      "  return self.partial_fit(X, y)\n",
      "/home/priyanshu/anaconda3/envs/gpu/lib/python3.6/site-packages/sklearn/base.py:462: DataConversionWarning: Data with input dtype bool, int64, float64 were all converted to float64 by StandardScaler.\n",
      "  return self.fit(X, **fit_params).transform(X)\n",
      "/home/priyanshu/anaconda3/envs/gpu/lib/python3.6/site-packages/ipykernel_launcher.py:3: DataConversionWarning: Data with input dtype bool, int64, float64 were all converted to float64 by StandardScaler.\n",
      "  This is separate from the ipykernel package so we can avoid doing imports until\n"
     ]
    },
    {
     "data": {
      "text/plain": [
       "array([[-0.42139088, -0.28265707, -0.25016823, ..., -0.21934361,\n",
       "         0.18942465, -0.44513827],\n",
       "       [-0.42139088, -0.28265707, -0.25016823, ...,  0.41353844,\n",
       "         0.18942465, -1.07721043],\n",
       "       [-1.08018507, -0.28265707, -0.25016823, ...,  0.41353844,\n",
       "         0.18942465, -0.44513827],\n",
       "       ...,\n",
       "       [-0.42139088, -0.28265707, -0.25016823, ...,  0.41353844,\n",
       "         0.18942465,  1.12599004],\n",
       "       [-0.42139088, -0.28265707, -0.25016823, ...,  0.41353844,\n",
       "         0.18942465,  1.12599004],\n",
       "       [-0.42139088,  2.79522945, -0.25016823, ...,  0.41353844,\n",
       "         0.18942465,  1.12599004]])"
      ]
     },
     "execution_count": 123,
     "metadata": {},
     "output_type": "execute_result"
    }
   ],
   "source": [
    "scaler = StandardScaler()\n",
    "scaler.fit_transform(X_train)\n",
    "scaler.transform(X_val)"
   ]
  },
  {
   "cell_type": "markdown",
   "metadata": {},
   "source": [
    "## Linear Regression"
   ]
  },
  {
   "cell_type": "code",
   "execution_count": 124,
   "metadata": {},
   "outputs": [],
   "source": [
    "model = Lasso(alpha=1e-6)"
   ]
  },
  {
   "cell_type": "code",
   "execution_count": 125,
   "metadata": {},
   "outputs": [
    {
     "name": "stderr",
     "output_type": "stream",
     "text": [
      "/home/priyanshu/anaconda3/envs/gpu/lib/python3.6/site-packages/sklearn/linear_model/coordinate_descent.py:492: ConvergenceWarning: Objective did not converge. You might want to increase the number of iterations. Fitting data with very small alpha may cause precision problems.\n",
      "  ConvergenceWarning)\n"
     ]
    },
    {
     "data": {
      "text/plain": [
       "Lasso(alpha=1e-06, copy_X=True, fit_intercept=True, max_iter=1000,\n",
       "   normalize=False, positive=False, precompute=False, random_state=None,\n",
       "   selection='cyclic', tol=0.0001, warm_start=False)"
      ]
     },
     "execution_count": 125,
     "metadata": {},
     "output_type": "execute_result"
    }
   ],
   "source": [
    "model.fit(X_train,y_train)"
   ]
  },
  {
   "cell_type": "code",
   "execution_count": 126,
   "metadata": {},
   "outputs": [
    {
     "name": "stdout",
     "output_type": "stream",
     "text": [
      "Train error=  0.5144153501973632\n",
      "Test error=  0.4955299963008566\n"
     ]
    }
   ],
   "source": [
    "train_rmse =(r2_score(y_train, model.predict(X_train)))\n",
    "test_rmse =(r2_score(y_val, model.predict(X_val)))\n",
    "print('Train error= ',train_rmse)\n",
    "print('Test error= ',test_rmse)\n"
   ]
  },
  {
   "cell_type": "code",
   "execution_count": 127,
   "metadata": {},
   "outputs": [
    {
     "name": "stdout",
     "output_type": "stream",
     "text": [
      "accommodates   0.1722531245747418\n",
      "bathrooms   0.062211880958429416\n",
      "bedrooms   0.0756028017438623\n",
      "cleaning_fee   0.0028507523743841095\n",
      "security_deposit   4.832069595678884e-05\n",
      "extra_people   -0.0020645204554967673\n",
      "guests_included   0.026090493128369353\n",
      "host_has_profile_pic   0.043634006270576835\n",
      "host_since   0.00043197078356978973\n",
      "neighbourhood_cleansed   -0.00019115624738905813\n",
      "neighbourhood_group_cleansed   -0.0032479352084755463\n",
      "host_is_superhost   0.06203263572010189\n",
      "latitude   -9.315373701014023\n",
      "longitude   1.6636611078790187\n",
      "is_location_exact   -0.024592979804275248\n",
      "property_type   0.002377453887566345\n",
      "room_type   -0.38911788909377504\n",
      "accommodates   -0.08712316729115309\n",
      "bathrooms   0.006579423186743425\n",
      "bedrooms   0.020370753653786298\n",
      "bed_type   0.006084159547693912\n",
      "cleaning_fee   -0.001171223532105738\n",
      "reviews_per_month   0.0007207801610800863\n",
      "number_of_reviews   -0.0010428866899225278\n",
      "security_deposit   -2.9219839326795422e-05\n",
      "extra_people   0.0023992032835124548\n",
      "guests_included   0.020825028521608967\n",
      "minimum_nights   -0.0003723388184391155\n",
      "instant_bookable   0.03010167140596385\n",
      "is_business_travel_ready   0.0\n",
      "cancellation_policy   -0.008466430758968175\n",
      "availability_365   0.0006253000487974625\n",
      "No_of_amentities   0.004828018316133756\n",
      "Laptop_friendly_workspace   -0.02593480546986182\n",
      "TV   0.07569925151392291\n",
      "Family_kid_friendly   0.003732628024362568\n",
      "Host_greets_you   -0.009108613218696028\n",
      "Smoking_allowed   -0.055813608719463545\n",
      "Hot_water   0.03235233150160672\n",
      "Fridge   -0.05780842858253362\n",
      "distance_central   -0.07677544130734425\n",
      "distance_airport   0.0777190512181283\n",
      "distance_railways   1.530967143081497e-14\n",
      "distance_avg   0.0017446316954618799\n",
      "neighbourhood_cleansed_freq   0.41289455649770285\n",
      "neighbourhood_group_cleansed_freq   -0.21774866074995508\n",
      "property_type_freq   -0.1394423334244581\n",
      "room_type_freq   0.014406266542000785\n",
      "bed_type_freq   0.04064022685784933\n",
      "cancellation_policy_freq   -0.121539860572616\n"
     ]
    }
   ],
   "source": [
    "for i in range(len(model.coef_)):\n",
    "    print(df.columns[i],' ',model.coef_[i])"
   ]
  },
  {
   "cell_type": "markdown",
   "metadata": {},
   "source": [
    "## LightGBM"
   ]
  },
  {
   "cell_type": "code",
   "execution_count": 128,
   "metadata": {},
   "outputs": [],
   "source": [
    "# for i in range(len(X_train.columns)):\n",
    "#     print(i,' ',X_train.columns[i])"
   ]
  },
  {
   "cell_type": "code",
   "execution_count": 129,
   "metadata": {},
   "outputs": [
    {
     "name": "stderr",
     "output_type": "stream",
     "text": [
      "/home/priyanshu/anaconda3/envs/gpu/lib/python3.6/site-packages/lightgbm/basic.py:1190: UserWarning: categorical_feature in Dataset is overridden.\n",
      "New categorical_feature is [9, 10, 15, 16, 20, 30]\n",
      "  'New categorical_feature is {}'.format(sorted(list(categorical_feature))))\n"
     ]
    }
   ],
   "source": [
    "import lightgbm as lgbm\n",
    "params = {'objective': 'regression',\n",
    "          'metric': 'rmse',\n",
    "          'learning_rate':0.005,\n",
    "          'max_depth':5\n",
    "         } \n",
    "train_set = lgbm.Dataset(X_train,y_train, silent=True)\n",
    "model = lgbm.train(params, train_set=train_set,num_boost_round=1000,categorical_feature=[9,10,15,16,20,30])"
   ]
  },
  {
   "cell_type": "code",
   "execution_count": 130,
   "metadata": {},
   "outputs": [],
   "source": [
    "yp_train = model.predict(X_train)\n",
    "yp_val = model.predict(X_val)"
   ]
  },
  {
   "cell_type": "code",
   "execution_count": 131,
   "metadata": {},
   "outputs": [
    {
     "name": "stdout",
     "output_type": "stream",
     "text": [
      "Train error=  0.6909573280050317\n",
      "Test error=  0.6457348035030834\n"
     ]
    }
   ],
   "source": [
    "train_r2 =(r2_score(y_train, yp_train))\n",
    "test_r2 =(r2_score(y_val, yp_val))\n",
    "    \n",
    "print('Train error= ',train_r2)\n",
    "print('Test error= ',test_r2)\n"
   ]
  },
  {
   "cell_type": "code",
   "execution_count": 132,
   "metadata": {},
   "outputs": [
    {
     "name": "stdout",
     "output_type": "stream",
     "text": [
      "Train error=  0.11480391761918422\n",
      "Test error=  0.13915505886041404\n"
     ]
    }
   ],
   "source": [
    "train_rmse =(mse(y_train, yp_train))\n",
    "test_rmse =(mse(y_val, yp_val))\n",
    "    \n",
    "print('Train error= ',train_rmse)\n",
    "print('Test error= ',test_rmse)\n"
   ]
  },
  {
   "cell_type": "code",
   "execution_count": 119,
   "metadata": {},
   "outputs": [],
   "source": [
    "def adj_r2(r2,n,p):\n",
    "    return 1- ((1-r2)*(n-1))/(n-p-1)"
   ]
  },
  {
   "cell_type": "code",
   "execution_count": 120,
   "metadata": {},
   "outputs": [
    {
     "data": {
      "text/plain": [
       "0.693922011874266"
      ]
     },
     "execution_count": 120,
     "metadata": {},
     "output_type": "execute_result"
    }
   ],
   "source": [
    "adj_r2(train_r2,X_train.shape[0],X_train.shape[1])"
   ]
  },
  {
   "cell_type": "code",
   "execution_count": 121,
   "metadata": {},
   "outputs": [
    {
     "data": {
      "text/plain": [
       "0.6386444288791526"
      ]
     },
     "execution_count": 121,
     "metadata": {},
     "output_type": "execute_result"
    }
   ],
   "source": [
    "adj_r2(test_r2,X_val.shape[0],X_val.shape[1])"
   ]
  },
  {
   "cell_type": "code",
   "execution_count": null,
   "metadata": {},
   "outputs": [],
   "source": []
  }
 ],
 "metadata": {
  "kernelspec": {
   "display_name": "Python 3",
   "language": "python",
   "name": "python3"
  },
  "language_info": {
   "codemirror_mode": {
    "name": "ipython",
    "version": 3
   },
   "file_extension": ".py",
   "mimetype": "text/x-python",
   "name": "python",
   "nbconvert_exporter": "python",
   "pygments_lexer": "ipython3",
   "version": "3.6.8"
  }
 },
 "nbformat": 4,
 "nbformat_minor": 2
}
